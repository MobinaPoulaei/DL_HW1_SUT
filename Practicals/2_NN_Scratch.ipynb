{
  "cells": [
    {
      "cell_type": "markdown",
      "id": "5e5fd69e",
      "metadata": {
        "id": "5e5fd69e"
      },
      "source": [
        "<div align=\"center\">\n",
        "    <img src=\"https://www.sharif.ir/documents/20124/0/logo-fa-IR.png/4d9b72bc-494b-ed5a-d3bb-e7dfd319aec8?t=1609608338755\" alt=\"Logo\" width=\"200\">\n",
        "    <p><b>HW1 @ Deep Learning Course, Dr. Soleymani</b></p>\n",
        "    <p><b>ِDesinged by Amirmahdi Meighani</b></p>\n",
        "</div>\n",
        "\n",
        "---\n",
        "\n"
      ]
    },
    {
      "cell_type": "markdown",
      "id": "sJ87dPg0aerE",
      "metadata": {
        "id": "sJ87dPg0aerE"
      },
      "source": [
        "\n",
        "*Full Name:* Mobina Poulaei\n",
        "\n",
        "*Student Number:* 403206962"
      ]
    },
    {
      "cell_type": "markdown",
      "id": "eYZZ0jkJc__9",
      "metadata": {
        "id": "eYZZ0jkJc__9"
      },
      "source": [
        "# Overview: Building a Neural Network Framework with NumPy\n",
        "\n",
        "In this assignment, you will build a simple **Multi-Layer Perceptron (MLP) framework** using only NumPy. By implementing each component step by step, you will gain a fundamental understanding of **forward and backward propagation**, **loss functions**, and **optimization techniques**.\n",
        "\n",
        "Each part of the assignment builds on the previous one.\n",
        "\n",
        "### Goal\n",
        "To build a modular **Multi-Layer Perceptron (MLP)** framework using NumPy from scratch.\n",
        "\n",
        "### Structure of the Assignment\n",
        "\n",
        "Each section below builds towards the final goal of training an MLP. The first steps focus on implementing fundamental components, while later steps involve integrating them into a complete training pipeline.\n",
        "\n",
        "#### **Step 1: Implementing Core Functions (70 points)**\n",
        "- **Forward & Backward Passes (10 points):** Implement `affine_forward` and `affine_backward` to compute layer outputs and gradients.\n",
        "- **Activation Functions (20 points):** Implement ReLU and Sigmoid functions (`relu_forward/backward`, `sigmoid_forward/backward`).\n",
        "- **Loss Calculation (15 points):** Implement `mse_loss` to compute Mean Squared Error and its gradient.\n",
        "- **Building a Multi-Layer Network (15 points):** Define a `FullyConnectedNet` class that integrates all layers and computes forward and backward passes.\n",
        "- **Optimization (10 points):** Implement `sgd_momentum` to update parameters.\n",
        "\n",
        "#### **Step 2: Training & Evaluation (30 points)**\n",
        "- **Training (25 points):** Train the `FullyConnectedNet` using a `Solver` class.\n",
        "- **Evaluation (5 points):** Assess the model on validation/test data.\n",
        "**__Your score on this section is based on the result of your model and defines how well the previous sections are implemented.__*"
      ]
    },
    {
      "cell_type": "code",
      "execution_count": null,
      "id": "881f2e4c",
      "metadata": {
        "colab": {
          "base_uri": "https://localhost:8080/"
        },
        "id": "881f2e4c",
        "outputId": "f621b314-7a9a-4fc8-85af-01571cd26d45",
        "collapsed": true
      },
      "outputs": [
        {
          "output_type": "stream",
          "name": "stdout",
          "text": [
            "Requirement already satisfied: future in /usr/local/lib/python3.11/dist-packages (1.0.0)\n",
            "Requirement already satisfied: pandas in /usr/local/lib/python3.11/dist-packages (2.2.2)\n",
            "Requirement already satisfied: numpy>=1.23.2 in /usr/local/lib/python3.11/dist-packages (from pandas) (1.26.4)\n",
            "Requirement already satisfied: python-dateutil>=2.8.2 in /usr/local/lib/python3.11/dist-packages (from pandas) (2.8.2)\n",
            "Requirement already satisfied: pytz>=2020.1 in /usr/local/lib/python3.11/dist-packages (from pandas) (2025.1)\n",
            "Requirement already satisfied: tzdata>=2022.7 in /usr/local/lib/python3.11/dist-packages (from pandas) (2025.1)\n",
            "Requirement already satisfied: six>=1.5 in /usr/local/lib/python3.11/dist-packages (from python-dateutil>=2.8.2->pandas) (1.17.0)\n",
            "Requirement already satisfied: torchvision in /usr/local/lib/python3.11/dist-packages (0.20.1+cu124)\n",
            "Requirement already satisfied: numpy in /usr/local/lib/python3.11/dist-packages (from torchvision) (1.26.4)\n",
            "Requirement already satisfied: torch==2.5.1 in /usr/local/lib/python3.11/dist-packages (from torchvision) (2.5.1+cu124)\n",
            "Requirement already satisfied: pillow!=8.3.*,>=5.3.0 in /usr/local/lib/python3.11/dist-packages (from torchvision) (11.1.0)\n",
            "Requirement already satisfied: filelock in /usr/local/lib/python3.11/dist-packages (from torch==2.5.1->torchvision) (3.17.0)\n",
            "Requirement already satisfied: typing-extensions>=4.8.0 in /usr/local/lib/python3.11/dist-packages (from torch==2.5.1->torchvision) (4.12.2)\n",
            "Requirement already satisfied: networkx in /usr/local/lib/python3.11/dist-packages (from torch==2.5.1->torchvision) (3.4.2)\n",
            "Requirement already satisfied: jinja2 in /usr/local/lib/python3.11/dist-packages (from torch==2.5.1->torchvision) (3.1.5)\n",
            "Requirement already satisfied: fsspec in /usr/local/lib/python3.11/dist-packages (from torch==2.5.1->torchvision) (2024.10.0)\n",
            "Collecting nvidia-cuda-nvrtc-cu12==12.4.127 (from torch==2.5.1->torchvision)\n",
            "  Downloading nvidia_cuda_nvrtc_cu12-12.4.127-py3-none-manylinux2014_x86_64.whl.metadata (1.5 kB)\n",
            "Collecting nvidia-cuda-runtime-cu12==12.4.127 (from torch==2.5.1->torchvision)\n",
            "  Downloading nvidia_cuda_runtime_cu12-12.4.127-py3-none-manylinux2014_x86_64.whl.metadata (1.5 kB)\n",
            "Collecting nvidia-cuda-cupti-cu12==12.4.127 (from torch==2.5.1->torchvision)\n",
            "  Downloading nvidia_cuda_cupti_cu12-12.4.127-py3-none-manylinux2014_x86_64.whl.metadata (1.6 kB)\n",
            "Collecting nvidia-cudnn-cu12==9.1.0.70 (from torch==2.5.1->torchvision)\n",
            "  Downloading nvidia_cudnn_cu12-9.1.0.70-py3-none-manylinux2014_x86_64.whl.metadata (1.6 kB)\n",
            "Collecting nvidia-cublas-cu12==12.4.5.8 (from torch==2.5.1->torchvision)\n",
            "  Downloading nvidia_cublas_cu12-12.4.5.8-py3-none-manylinux2014_x86_64.whl.metadata (1.5 kB)\n",
            "Collecting nvidia-cufft-cu12==11.2.1.3 (from torch==2.5.1->torchvision)\n",
            "  Downloading nvidia_cufft_cu12-11.2.1.3-py3-none-manylinux2014_x86_64.whl.metadata (1.5 kB)\n",
            "Collecting nvidia-curand-cu12==10.3.5.147 (from torch==2.5.1->torchvision)\n",
            "  Downloading nvidia_curand_cu12-10.3.5.147-py3-none-manylinux2014_x86_64.whl.metadata (1.5 kB)\n",
            "Collecting nvidia-cusolver-cu12==11.6.1.9 (from torch==2.5.1->torchvision)\n",
            "  Downloading nvidia_cusolver_cu12-11.6.1.9-py3-none-manylinux2014_x86_64.whl.metadata (1.6 kB)\n",
            "Collecting nvidia-cusparse-cu12==12.3.1.170 (from torch==2.5.1->torchvision)\n",
            "  Downloading nvidia_cusparse_cu12-12.3.1.170-py3-none-manylinux2014_x86_64.whl.metadata (1.6 kB)\n",
            "Requirement already satisfied: nvidia-nccl-cu12==2.21.5 in /usr/local/lib/python3.11/dist-packages (from torch==2.5.1->torchvision) (2.21.5)\n",
            "Requirement already satisfied: nvidia-nvtx-cu12==12.4.127 in /usr/local/lib/python3.11/dist-packages (from torch==2.5.1->torchvision) (12.4.127)\n",
            "Collecting nvidia-nvjitlink-cu12==12.4.127 (from torch==2.5.1->torchvision)\n",
            "  Downloading nvidia_nvjitlink_cu12-12.4.127-py3-none-manylinux2014_x86_64.whl.metadata (1.5 kB)\n",
            "Requirement already satisfied: triton==3.1.0 in /usr/local/lib/python3.11/dist-packages (from torch==2.5.1->torchvision) (3.1.0)\n",
            "Requirement already satisfied: sympy==1.13.1 in /usr/local/lib/python3.11/dist-packages (from torch==2.5.1->torchvision) (1.13.1)\n",
            "Requirement already satisfied: mpmath<1.4,>=1.1.0 in /usr/local/lib/python3.11/dist-packages (from sympy==1.13.1->torch==2.5.1->torchvision) (1.3.0)\n",
            "Requirement already satisfied: MarkupSafe>=2.0 in /usr/local/lib/python3.11/dist-packages (from jinja2->torch==2.5.1->torchvision) (3.0.2)\n",
            "Downloading nvidia_cublas_cu12-12.4.5.8-py3-none-manylinux2014_x86_64.whl (363.4 MB)\n",
            "\u001b[2K   \u001b[90m━━━━━━━━━━━━━━━━━━━━━━━━━━━━━━━━━━━━━━━━\u001b[0m \u001b[32m363.4/363.4 MB\u001b[0m \u001b[31m5.2 MB/s\u001b[0m eta \u001b[36m0:00:00\u001b[0m\n",
            "\u001b[?25hDownloading nvidia_cuda_cupti_cu12-12.4.127-py3-none-manylinux2014_x86_64.whl (13.8 MB)\n",
            "\u001b[2K   \u001b[90m━━━━━━━━━━━━━━━━━━━━━━━━━━━━━━━━━━━━━━━━\u001b[0m \u001b[32m13.8/13.8 MB\u001b[0m \u001b[31m110.5 MB/s\u001b[0m eta \u001b[36m0:00:00\u001b[0m\n",
            "\u001b[?25hDownloading nvidia_cuda_nvrtc_cu12-12.4.127-py3-none-manylinux2014_x86_64.whl (24.6 MB)\n",
            "\u001b[2K   \u001b[90m━━━━━━━━━━━━━━━━━━━━━━━━━━━━━━━━━━━━━━━━\u001b[0m \u001b[32m24.6/24.6 MB\u001b[0m \u001b[31m82.9 MB/s\u001b[0m eta \u001b[36m0:00:00\u001b[0m\n",
            "\u001b[?25hDownloading nvidia_cuda_runtime_cu12-12.4.127-py3-none-manylinux2014_x86_64.whl (883 kB)\n",
            "\u001b[2K   \u001b[90m━━━━━━━━━━━━━━━━━━━━━━━━━━━━━━━━━━━━━━━━\u001b[0m \u001b[32m883.7/883.7 kB\u001b[0m \u001b[31m64.1 MB/s\u001b[0m eta \u001b[36m0:00:00\u001b[0m\n",
            "\u001b[?25hDownloading nvidia_cudnn_cu12-9.1.0.70-py3-none-manylinux2014_x86_64.whl (664.8 MB)\n",
            "\u001b[2K   \u001b[90m━━━━━━━━━━━━━━━━━━━━━━━━━━━━━━━━━━━━━━━━\u001b[0m \u001b[32m664.8/664.8 MB\u001b[0m \u001b[31m2.0 MB/s\u001b[0m eta \u001b[36m0:00:00\u001b[0m\n",
            "\u001b[?25hDownloading nvidia_cufft_cu12-11.2.1.3-py3-none-manylinux2014_x86_64.whl (211.5 MB)\n",
            "\u001b[2K   \u001b[90m━━━━━━━━━━━━━━━━━━━━━━━━━━━━━━━━━━━━━━━━\u001b[0m \u001b[32m211.5/211.5 MB\u001b[0m \u001b[31m5.3 MB/s\u001b[0m eta \u001b[36m0:00:00\u001b[0m\n",
            "\u001b[?25hDownloading nvidia_curand_cu12-10.3.5.147-py3-none-manylinux2014_x86_64.whl (56.3 MB)\n",
            "\u001b[2K   \u001b[90m━━━━━━━━━━━━━━━━━━━━━━━━━━━━━━━━━━━━━━━━\u001b[0m \u001b[32m56.3/56.3 MB\u001b[0m \u001b[31m21.6 MB/s\u001b[0m eta \u001b[36m0:00:00\u001b[0m\n",
            "\u001b[?25hDownloading nvidia_cusolver_cu12-11.6.1.9-py3-none-manylinux2014_x86_64.whl (127.9 MB)\n",
            "\u001b[2K   \u001b[90m━━━━━━━━━━━━━━━━━━━━━━━━━━━━━━━━━━━━━━━━\u001b[0m \u001b[32m127.9/127.9 MB\u001b[0m \u001b[31m7.2 MB/s\u001b[0m eta \u001b[36m0:00:00\u001b[0m\n",
            "\u001b[?25hDownloading nvidia_cusparse_cu12-12.3.1.170-py3-none-manylinux2014_x86_64.whl (207.5 MB)\n",
            "\u001b[2K   \u001b[90m━━━━━━━━━━━━━━━━━━━━━━━━━━━━━━━━━━━━━━━━\u001b[0m \u001b[32m207.5/207.5 MB\u001b[0m \u001b[31m6.1 MB/s\u001b[0m eta \u001b[36m0:00:00\u001b[0m\n",
            "\u001b[?25hDownloading nvidia_nvjitlink_cu12-12.4.127-py3-none-manylinux2014_x86_64.whl (21.1 MB)\n",
            "\u001b[2K   \u001b[90m━━━━━━━━━━━━━━━━━━━━━━━━━━━━━━━━━━━━━━━━\u001b[0m \u001b[32m21.1/21.1 MB\u001b[0m \u001b[31m90.5 MB/s\u001b[0m eta \u001b[36m0:00:00\u001b[0m\n",
            "\u001b[?25hInstalling collected packages: nvidia-nvjitlink-cu12, nvidia-curand-cu12, nvidia-cufft-cu12, nvidia-cuda-runtime-cu12, nvidia-cuda-nvrtc-cu12, nvidia-cuda-cupti-cu12, nvidia-cublas-cu12, nvidia-cusparse-cu12, nvidia-cudnn-cu12, nvidia-cusolver-cu12\n",
            "  Attempting uninstall: nvidia-nvjitlink-cu12\n",
            "    Found existing installation: nvidia-nvjitlink-cu12 12.5.82\n",
            "    Uninstalling nvidia-nvjitlink-cu12-12.5.82:\n",
            "      Successfully uninstalled nvidia-nvjitlink-cu12-12.5.82\n",
            "  Attempting uninstall: nvidia-curand-cu12\n",
            "    Found existing installation: nvidia-curand-cu12 10.3.6.82\n",
            "    Uninstalling nvidia-curand-cu12-10.3.6.82:\n",
            "      Successfully uninstalled nvidia-curand-cu12-10.3.6.82\n",
            "  Attempting uninstall: nvidia-cufft-cu12\n",
            "    Found existing installation: nvidia-cufft-cu12 11.2.3.61\n",
            "    Uninstalling nvidia-cufft-cu12-11.2.3.61:\n",
            "      Successfully uninstalled nvidia-cufft-cu12-11.2.3.61\n",
            "  Attempting uninstall: nvidia-cuda-runtime-cu12\n",
            "    Found existing installation: nvidia-cuda-runtime-cu12 12.5.82\n",
            "    Uninstalling nvidia-cuda-runtime-cu12-12.5.82:\n",
            "      Successfully uninstalled nvidia-cuda-runtime-cu12-12.5.82\n",
            "  Attempting uninstall: nvidia-cuda-nvrtc-cu12\n",
            "    Found existing installation: nvidia-cuda-nvrtc-cu12 12.5.82\n",
            "    Uninstalling nvidia-cuda-nvrtc-cu12-12.5.82:\n",
            "      Successfully uninstalled nvidia-cuda-nvrtc-cu12-12.5.82\n",
            "  Attempting uninstall: nvidia-cuda-cupti-cu12\n",
            "    Found existing installation: nvidia-cuda-cupti-cu12 12.5.82\n",
            "    Uninstalling nvidia-cuda-cupti-cu12-12.5.82:\n",
            "      Successfully uninstalled nvidia-cuda-cupti-cu12-12.5.82\n",
            "  Attempting uninstall: nvidia-cublas-cu12\n",
            "    Found existing installation: nvidia-cublas-cu12 12.5.3.2\n",
            "    Uninstalling nvidia-cublas-cu12-12.5.3.2:\n",
            "      Successfully uninstalled nvidia-cublas-cu12-12.5.3.2\n",
            "  Attempting uninstall: nvidia-cusparse-cu12\n",
            "    Found existing installation: nvidia-cusparse-cu12 12.5.1.3\n",
            "    Uninstalling nvidia-cusparse-cu12-12.5.1.3:\n",
            "      Successfully uninstalled nvidia-cusparse-cu12-12.5.1.3\n",
            "  Attempting uninstall: nvidia-cudnn-cu12\n",
            "    Found existing installation: nvidia-cudnn-cu12 9.3.0.75\n",
            "    Uninstalling nvidia-cudnn-cu12-9.3.0.75:\n",
            "      Successfully uninstalled nvidia-cudnn-cu12-9.3.0.75\n",
            "  Attempting uninstall: nvidia-cusolver-cu12\n",
            "    Found existing installation: nvidia-cusolver-cu12 11.6.3.83\n",
            "    Uninstalling nvidia-cusolver-cu12-11.6.3.83:\n",
            "      Successfully uninstalled nvidia-cusolver-cu12-11.6.3.83\n",
            "Successfully installed nvidia-cublas-cu12-12.4.5.8 nvidia-cuda-cupti-cu12-12.4.127 nvidia-cuda-nvrtc-cu12-12.4.127 nvidia-cuda-runtime-cu12-12.4.127 nvidia-cudnn-cu12-9.1.0.70 nvidia-cufft-cu12-11.2.1.3 nvidia-curand-cu12-10.3.5.147 nvidia-cusolver-cu12-11.6.1.9 nvidia-cusparse-cu12-12.3.1.170 nvidia-nvjitlink-cu12-12.4.127\n"
          ]
        }
      ],
      "source": [
        "!pip install future\n",
        "!pip install pandas\n",
        "!pip install torchvision"
      ]
    },
    {
      "cell_type": "code",
      "execution_count": null,
      "id": "8efb6140",
      "metadata": {
        "id": "8efb6140"
      },
      "outputs": [],
      "source": [
        "from utils.gradient_check import eval_numerical_gradient, eval_numerical_gradient_array\n",
        "from utils.data import get_california_housing_data, get_california_housing_normalized__data\n",
        "from builtins import range\n",
        "import numpy as np\n",
        "import matplotlib.pyplot as plt\n",
        "from utils.solver import *\n",
        "import pandas as pd\n",
        "from sklearn.datasets import fetch_california_housing\n",
        "\n",
        "%matplotlib inline\n",
        "plt.rcParams['figure.figsize'] = (10.0, 8.0) # set default size of plots\n",
        "plt.rcParams['image.cmap'] = 'gray'\n",
        "\n",
        "def rel_error(x, y):\n",
        "  \"\"\" returns relative error \"\"\"\n",
        "  return np.max(np.abs(x - y) / (np.maximum(1e-8, np.abs(x) + np.abs(y))))\n",
        "\n",
        "def print_mean_std(x,axis=0):\n",
        "    print(f\"  means: {x.mean(axis=axis)}\")\n",
        "    print(f\"  stds:  {x.std(axis=axis)}\\n\")"
      ]
    },
    {
      "cell_type": "markdown",
      "id": "57c3af9e",
      "metadata": {
        "id": "57c3af9e"
      },
      "source": [
        "# Fully-Connected Neural Nets\n",
        "In this exercise we will implement fully-connected networks using a modular approach. For each layer we will implement a generic `forward` and a `backward` function. The `forward` function will receive inputs, weights, and other parameters and will return both an output and a `cache` object storing data needed for the backward pass, like this:\n",
        "\n",
        "```python\n",
        "def layer_forward(x, w):\n",
        "  \"\"\" Receive inputs x and weights w \"\"\"\n",
        "  # Do some computations ...\n",
        "  z = # ... some intermediate value\n",
        "  # Do some more computations ...\n",
        "  out = # the output\n",
        "   \n",
        "  cache = (x, w, z, out) # Values we need to compute gradients\n",
        "   \n",
        "  return out, cache\n",
        "```\n",
        "\n",
        "The backward pass will receive upstream derivatives and the `cache` object, and will return gradients with respect to the inputs and weights, like this:\n",
        "\n",
        "```python\n",
        "def layer_backward(dout, cache):\n",
        "  \"\"\"\n",
        "  Receive dout (derivative of loss with respect to outputs) and cache,\n",
        "  and compute derivative with respect to inputs.\n",
        "  \"\"\"\n",
        "  # Unpack cache values\n",
        "  x, w, z, out = cache\n",
        "  \n",
        "  # Use values in cache to compute derivatives\n",
        "  dx = # Derivative of loss with respect to x\n",
        "  dw = # Derivative of loss with respect to w\n",
        "  \n",
        "  return dx, dw\n",
        "```\n",
        "\n",
        "After implementing a bunch of layers this way, we will be able to easily combine them to build different models with architectures."
      ]
    },
    {
      "cell_type": "markdown",
      "id": "649895ab",
      "metadata": {
        "id": "649895ab"
      },
      "source": [
        "# Affine layer: forward (5 Points)\n",
        "Implement the `affine_forward` function."
      ]
    },
    {
      "cell_type": "code",
      "execution_count": null,
      "id": "03c584b4",
      "metadata": {
        "id": "03c584b4"
      },
      "outputs": [],
      "source": [
        "def affine_forward(x, w, b):\n",
        "    \"\"\"\n",
        "    Computes the forward pass for an affine (fully-connected) layer.\n",
        "\n",
        "    The input x has shape (N, d_1, ..., d_k) and contains a minibatch of N\n",
        "    examples, where each example x[i] has shape (d_1, ..., d_k). We will\n",
        "    reshape each input into a vector of dimension D = d_1 * ... * d_k, and\n",
        "    then transform it to an output vector of dimension M.\n",
        "\n",
        "    Inputs:\n",
        "    - x: A numpy array containing input data, of shape (N, d_1, ..., d_k)\n",
        "    - w: A numpy array of weights, of shape (D, M)\n",
        "    - b: A numpy array of biases, of shape (M,)\n",
        "\n",
        "    Returns a tuple of:\n",
        "    - out: output, of shape (N, M)\n",
        "    - cache: (x, w, b)\n",
        "    \"\"\"\n",
        "    ###########################################################################\n",
        "    # TODO: Implement the affine forward pass. Store the result in out. You   #\n",
        "    # will need to reshape the input into rows.                               #\n",
        "    ###########################################################################\n",
        "    # *****START OF YOUR CODE (DO NOT DELETE/MODIFY THIS LINE)*****\n",
        "    N = x.shape[0]\n",
        "    D = np.prod(x.shape[1:])\n",
        "    x_reshaped = x.reshape(N, D) # Reshape to (N, D)\n",
        "    # print(\"Shape after reshaping input:\", x_reshaped.shape)\n",
        "    out = np.dot(x_reshaped, w) + b # compute out ---> shape: N, M\n",
        "    # print(\"Shape after affine transformation:\", out.shape)\n",
        "    cache = (x, w, b) # Values we need to compute gradients\n",
        "\n",
        "    return out, cache"
      ]
    },
    {
      "cell_type": "markdown",
      "id": "acdd5827",
      "metadata": {
        "id": "acdd5827"
      },
      "source": [
        "You can test your implementaion by running the following:"
      ]
    },
    {
      "cell_type": "code",
      "execution_count": null,
      "id": "80db2fe8",
      "metadata": {
        "colab": {
          "base_uri": "https://localhost:8080/"
        },
        "id": "80db2fe8",
        "outputId": "f19517c7-1d41-496a-a332-70b85df275c6"
      },
      "outputs": [
        {
          "output_type": "stream",
          "name": "stdout",
          "text": [
            "Testing affine_forward function:\n",
            "difference:  9.769849468192957e-10\n"
          ]
        }
      ],
      "source": [
        "# Test the affine_forward function\n",
        "\n",
        "num_inputs = 2\n",
        "input_shape = (4, 5, 6)\n",
        "output_dim = 3\n",
        "\n",
        "input_size = num_inputs * np.prod(input_shape)\n",
        "weight_size = output_dim * np.prod(input_shape)\n",
        "\n",
        "x = np.linspace(-0.1, 0.5, num=input_size).reshape(num_inputs, *input_shape)\n",
        "w = np.linspace(-0.2, 0.3, num=weight_size).reshape(np.prod(input_shape), output_dim)\n",
        "b = np.linspace(-0.3, 0.1, num=output_dim)\n",
        "\n",
        "out, _ = affine_forward(x, w, b)\n",
        "correct_out = np.array([[ 1.49834967,  1.70660132,  1.91485297],\n",
        "                        [ 3.25553199,  3.5141327,   3.77273342]])\n",
        "\n",
        "# Compare your output with ours. The error should be around e-9 or less.\n",
        "print('Testing affine_forward function:')\n",
        "print('difference: ', rel_error(out, correct_out))"
      ]
    },
    {
      "cell_type": "markdown",
      "id": "8e64b312",
      "metadata": {
        "id": "8e64b312"
      },
      "source": [
        "# Affine layer: backward (5 Points)\n",
        "Now implement the `affine_backward` function and test your implementation using numeric gradient checking.\n",
        "\n",
        "\n",
        "Given an affine transformation in a neural network:\n",
        "\n",
        "$\n",
        "Z = XW + b\n",
        "$\n",
        "\n",
        "where:\n",
        "- $ X $ is the input matrix of shape $ (N, D) $\n",
        "- $ W $ is the weight matrix of shape $ (D, M) $\n",
        "- $ b $ is the bias vector of shape $ (1, M) $\n",
        "- $ Z $ is the output before activation of shape $ (N, M) $\n",
        "\n",
        "### Backward Pass Gradients:\n",
        "\n",
        "1. **Gradient w.r.t. input $ X $:**\n",
        " $\n",
        "   dX = dZ W^T\n",
        "$\n",
        "   (Shape: $ (N, D) $)\n",
        "\n",
        "2. **Gradient w.r.t. weights $ W $:**\n",
        "   $\n",
        "   dW = X^T dZ\n",
        "   $\n",
        "   (Shape: $ (D, M) $)\n",
        "\n",
        "3. **Gradient w.r.t. bias $ b $:**\n",
        "   $\n",
        "   db = \\sum_{i=1}^{N} dZ_i\n",
        "   $\n",
        "   (Shape: $ (1, M) $)\n"
      ]
    },
    {
      "cell_type": "code",
      "execution_count": null,
      "id": "e61d5b9c",
      "metadata": {
        "id": "e61d5b9c"
      },
      "outputs": [],
      "source": [
        "def affine_backward(dout, cache):\n",
        "    \"\"\"\n",
        "    Computes the backward pass for an affine layer.\n",
        "\n",
        "    Inputs:\n",
        "    - dout: Upstream derivative, of shape (N, M)\n",
        "    - cache: Tuple of:\n",
        "      - x: Input data, of shape (N, d_1, ... d_k)\n",
        "      - w: Weights, of shape (D, M)\n",
        "      - b: Biases, of shape (M,)\n",
        "\n",
        "    Returns a tuple of:\n",
        "    - dx: Gradient with respect to x, of shape (N, d1, ..., d_k)\n",
        "    - dw: Gradient with respect to w, of shape (D, M)\n",
        "    - db: Gradient with respect to b, of shape (M,)\n",
        "    \"\"\"\n",
        "    ###########################################################################\n",
        "    # TODO: Implement the affine backward pass.                               #\n",
        "    ###########################################################################\n",
        "    # *****START OF YOUR CODE (DO NOT DELETE/MODIFY THIS LINE)*****\n",
        "    x, w, b = cache\n",
        "    N = x.shape[0]\n",
        "    M = w.shape[1]\n",
        "    D = w.shape[0]\n",
        "    # assert dout.shape == (N,M)\n",
        "\n",
        "    dx = np.dot(dout, w.T).reshape(x.shape) # Derivative of loss with respect to x --> shape: N, D\n",
        "    dw = np.dot(x.reshape(N, D).T, dout) # Derivative of loss with respect to w --> shape: D, M\n",
        "    db = np.sum(dout, axis=0) # Derivative of loss with respect to b --> M, 1\n",
        "    return dx, dw, db"
      ]
    },
    {
      "cell_type": "code",
      "execution_count": null,
      "id": "64de3af3",
      "metadata": {
        "colab": {
          "base_uri": "https://localhost:8080/"
        },
        "id": "64de3af3",
        "outputId": "bf7672d6-df95-499d-cef7-70b39a0ff7eb",
        "scrolled": true
      },
      "outputs": [
        {
          "output_type": "stream",
          "name": "stdout",
          "text": [
            "Testing affine_backward function:\n",
            "dx error:  5.399100368651805e-11\n",
            "dw error:  9.904211865398145e-11\n",
            "db error:  2.4122867568119087e-11\n"
          ]
        }
      ],
      "source": [
        "# Test the affine_backward function\n",
        "np.random.seed(231)\n",
        "x = np.random.randn(10, 2, 3)\n",
        "w = np.random.randn(6, 5)\n",
        "b = np.random.randn(5)\n",
        "dout = np.random.randn(10, 5)\n",
        "\n",
        "dx_num = eval_numerical_gradient_array(lambda x: affine_forward(x, w, b)[0], x, dout)\n",
        "dw_num = eval_numerical_gradient_array(lambda w: affine_forward(x, w, b)[0], w, dout)\n",
        "db_num = eval_numerical_gradient_array(lambda b: affine_forward(x, w, b)[0], b, dout)\n",
        "\n",
        "_, cache = affine_forward(x, w, b)\n",
        "dx, dw, db = affine_backward(dout, cache)\n",
        "\n",
        "# The error should be around e-10 or less\n",
        "print('Testing affine_backward function:')\n",
        "print('dx error: ', rel_error(dx_num, dx))\n",
        "print('dw error: ', rel_error(dw_num, dw))\n",
        "print('db error: ', rel_error(db_num, db))"
      ]
    },
    {
      "cell_type": "markdown",
      "id": "af5910d2",
      "metadata": {
        "id": "af5910d2"
      },
      "source": [
        "# ReLU activation: forward (5 Points)\n",
        "Implement the forward pass for the ReLU activation function in the `relu_forward` function and test your implementation using numeric gradient checking."
      ]
    },
    {
      "cell_type": "code",
      "execution_count": null,
      "id": "c537098f",
      "metadata": {
        "id": "c537098f"
      },
      "outputs": [],
      "source": [
        "def relu_forward(x):\n",
        "    \"\"\"\n",
        "    Computes the forward pass for a layer of rectified linear units (ReLUs).\n",
        "\n",
        "    Input:\n",
        "    - x: Inputs, of any shape\n",
        "\n",
        "    Returns a tuple of:\n",
        "    - out: Output, of the same shape as x\n",
        "    - cache: x\n",
        "    \"\"\"\n",
        "    ###########################################################################\n",
        "    # TODO: Implement the ReLU forward pass.                                  #\n",
        "    ###########################################################################\n",
        "    # *****START OF YOUR CODE (DO NOT DELETE/MODIFY THIS LINE)*****\n",
        "    out = np.maximum(0, x)\n",
        "    cache = x\n",
        "    return out, cache"
      ]
    },
    {
      "cell_type": "code",
      "execution_count": null,
      "id": "4cc17aa4",
      "metadata": {
        "colab": {
          "base_uri": "https://localhost:8080/"
        },
        "id": "4cc17aa4",
        "outputId": "29d75ea6-2e6d-4451-cfc9-e0da3ec7b455"
      },
      "outputs": [
        {
          "output_type": "stream",
          "name": "stdout",
          "text": [
            "Testing relu_forward function:\n",
            "difference:  4.999999798022158e-08\n"
          ]
        }
      ],
      "source": [
        "# Test the relu_forward function\n",
        "\n",
        "x = np.linspace(-0.5, 0.5, num=12).reshape(3, 4)\n",
        "\n",
        "out, _ = relu_forward(x)\n",
        "correct_out = np.array([[ 0.,          0.,          0.,          0.,        ],\n",
        "                        [ 0.,          0.,          0.04545455,  0.13636364,],\n",
        "                        [ 0.22727273,  0.31818182,  0.40909091,  0.5,       ]])\n",
        "\n",
        "# Compare your output with ours. The error should be on the order of e-8\n",
        "print('Testing relu_forward function:')\n",
        "print('difference: ', rel_error(out, correct_out))"
      ]
    },
    {
      "cell_type": "markdown",
      "id": "6171f37c",
      "metadata": {
        "id": "6171f37c"
      },
      "source": [
        "# ReLU activation: backward (5 Points)\n",
        "Now implement the backward pass for the ReLU activation function in the `relu_backward` function.\n",
        "\n",
        "\n",
        "ReLU Activation Backward Pass:\n",
        "\n",
        "Given the ReLU activation function:\n",
        "\n",
        "$ A = \\max(0, Z) $\n",
        "\n",
        "where $ A $ is the output after activation, and $ Z $ is the pre-activation input.\n",
        "\n",
        "1. **Gradient w.r.t. pre-activation input $ Z $:**\n",
        "   $\n",
        "   dZ = dA \\cdot \\mathbb{1}(Z > 0)\n",
        "   $\n",
        "   \n",
        "   (Element-wise multiplication where $ \\mathbb{1}(Z > 0) $ is an indicator function that is $1$ when $ Z > 0 $ and 0 otherwise.)"
      ]
    },
    {
      "cell_type": "code",
      "execution_count": null,
      "id": "3187da88",
      "metadata": {
        "id": "3187da88"
      },
      "outputs": [],
      "source": [
        "def relu_backward(dout, cache):\n",
        "    \"\"\"\n",
        "    Computes the backward pass for a layer of rectified linear units (ReLUs).\n",
        "\n",
        "    Input:\n",
        "    - dout: Upstream derivatives, of any shape\n",
        "    - cache: Input x, of same shape as dout\n",
        "\n",
        "    Returns:\n",
        "    - dx: Gradient with respect to x\n",
        "    \"\"\"\n",
        "    ###########################################################################\n",
        "    # TODO: Implement the ReLU backward pass.                                 #\n",
        "    ###########################################################################\n",
        "    # *****START OF YOUR CODE (DO NOT DELETE/MODIFY THIS LINE)*****\n",
        "    dx = dout * (cache>0) # Derivative of loss with respect to x\n",
        "    return dx"
      ]
    },
    {
      "cell_type": "markdown",
      "id": "88966dd6",
      "metadata": {
        "id": "88966dd6"
      },
      "source": [
        "You can test your implementation using numeric gradient checking:"
      ]
    },
    {
      "cell_type": "code",
      "execution_count": null,
      "id": "e81e30fd",
      "metadata": {
        "colab": {
          "base_uri": "https://localhost:8080/"
        },
        "id": "e81e30fd",
        "outputId": "3dd51d9e-79a9-443d-c5ed-000bae346e47"
      },
      "outputs": [
        {
          "output_type": "stream",
          "name": "stdout",
          "text": [
            "Testing relu_backward function:\n",
            "dx error:  3.2756349136310288e-12\n"
          ]
        }
      ],
      "source": [
        "# Test the relu_backward function\n",
        "np.random.seed(231)\n",
        "x = np.random.randn(10, 10)\n",
        "dout = np.random.randn(*x.shape)\n",
        "\n",
        "dx_num = eval_numerical_gradient_array(lambda x: relu_forward(x)[0], x, dout)\n",
        "\n",
        "_, cache = relu_forward(x)\n",
        "dx = relu_backward(dout, cache)\n",
        "\n",
        "# The error should be on the order of e-12\n",
        "print('Testing relu_backward function:')\n",
        "print('dx error: ', rel_error(dx_num, dx))"
      ]
    },
    {
      "cell_type": "markdown",
      "id": "b0f2e4d2",
      "metadata": {
        "id": "b0f2e4d2"
      },
      "source": [
        "# Sigmoid activation: forward (5 Points)\n",
        "Implement the forward pass for the Sigmoid activation function in the `sigmoid_forward` function and test your implementation using numeric gradient checking."
      ]
    },
    {
      "cell_type": "code",
      "execution_count": null,
      "id": "872854b0",
      "metadata": {
        "id": "872854b0"
      },
      "outputs": [],
      "source": [
        "def sigmoid_forward(x):\n",
        "    \"\"\"\n",
        "    Computes the forward pass for a layer of Sigmoid.\n",
        "\n",
        "    Input:\n",
        "    - x: Inputs, of any shape\n",
        "\n",
        "    Returns a tuple of:\n",
        "    - out: Output, of the same shape as x\n",
        "    - cache: x\n",
        "    \"\"\"\n",
        "    ###########################################################################\n",
        "    # TODO: Implement the Sigmoid forward pass.                               #\n",
        "    ###########################################################################\n",
        "    # *****START OF YOUR CODE (DO NOT DELETE/MODIFY THIS LINE)*****\n",
        "    out = 1 / (1 + np.exp(-x)) # compute Sigmoid(x)\n",
        "    cache = x\n",
        "\n",
        "    return out, cache"
      ]
    },
    {
      "cell_type": "code",
      "execution_count": null,
      "id": "1aadfec8",
      "metadata": {
        "colab": {
          "base_uri": "https://localhost:8080/"
        },
        "id": "1aadfec8",
        "outputId": "f1bea846-579b-46fb-bcf4-10de2fb0832c"
      },
      "outputs": [
        {
          "output_type": "stream",
          "name": "stdout",
          "text": [
            "Testing sigmoid_forward function:\n",
            "difference:  6.383174040859927e-07\n"
          ]
        }
      ],
      "source": [
        "# Test the sigmoid_forward function\n",
        "\n",
        "x = np.linspace(-6, 6, num=12).reshape(3, 4)\n",
        "\n",
        "out, _ = sigmoid_forward(x)\n",
        "correct_out = np.array([[0.00247262, 0.00732514, 0.0214955 , 0.06138311],\n",
        "                        [0.16296047, 0.36691963, 0.63308037, 0.83703953],\n",
        "                        [0.93861689, 0.9785045 , 0.99267486, 0.99752738]])\n",
        "\n",
        "# Compare your output with ours. The error should be on the order of e-7\n",
        "print('Testing sigmoid_forward function:')\n",
        "print('difference: ', rel_error(out, correct_out))"
      ]
    },
    {
      "cell_type": "markdown",
      "id": "9aa4e6a8",
      "metadata": {
        "id": "9aa4e6a8"
      },
      "source": [
        "# Sigmoid activation: backward (5 Points)\n",
        "Now implement the backward pass for the Sigmoid activation function in the `sigmoid_backward` function.\n",
        "\n",
        "Given the Sigmoid activation function:\n",
        "\n",
        "$\n",
        "A = \\sigma(Z) = \\frac{1}{1 + e^{-Z}}\n",
        "$\n",
        "\n",
        "where $ A $ is the output after activation, and $ Z $ is the pre-activation input.\n",
        "\n",
        "The derivative of the Sigmoid function is:\n",
        "\n",
        "$\n",
        "\\frac{dA}{dZ} = \\sigma(Z) (1 - \\sigma(Z))\n",
        "$\n",
        "\n",
        "The backward pass computes the gradient:\n",
        "\n",
        "1. **Gradient w.r.t. pre-activation input $ Z $:**\n",
        "   $\n",
        "   dZ = dA \\cdot \\sigma(Z) (1 - \\sigma(Z))\n",
        "   $\n",
        "   \n",
        "   (Element-wise multiplication using the derivative of Sigmoid.)\n"
      ]
    },
    {
      "cell_type": "code",
      "execution_count": null,
      "id": "fe527984",
      "metadata": {
        "id": "fe527984"
      },
      "outputs": [],
      "source": [
        "def sigmoid_backward(dout, cache):\n",
        "    \"\"\"\n",
        "    Computes the backward pass for a layer of Sigmoid.\n",
        "\n",
        "    Input:\n",
        "    - dout: Upstream derivatives, of any shape\n",
        "    - cache: Input x, of same shape as dout\n",
        "\n",
        "    Returns:\n",
        "    - dx: Gradient with respect to x\n",
        "    \"\"\"\n",
        "    ###########################################################################\n",
        "    # TODO: Implement the Sigmoid backward pass.                              #\n",
        "    ###########################################################################\n",
        "    # *****START OF YOUR CODE (DO NOT DELETE/MODIFY THIS LINE)*****\n",
        "    sigmoid, _ = sigmoid_forward(cache)\n",
        "    dx = dout*sigmoid*(1 - sigmoid) # Derivative of loss with respect to x\n",
        "    return dx"
      ]
    },
    {
      "cell_type": "markdown",
      "id": "b5ec2570",
      "metadata": {
        "id": "b5ec2570"
      },
      "source": [
        "You can test your implementation using numeric gradient checking:"
      ]
    },
    {
      "cell_type": "code",
      "execution_count": null,
      "id": "e06a7eef",
      "metadata": {
        "colab": {
          "base_uri": "https://localhost:8080/"
        },
        "id": "e06a7eef",
        "outputId": "de0e6a24-c458-40ef-8cbf-22327bcc8265"
      },
      "outputs": [
        {
          "output_type": "stream",
          "name": "stdout",
          "text": [
            "Testing sigmoid_backward function:\n",
            "dx error:  3.446520386706568e-11\n"
          ]
        }
      ],
      "source": [
        "# Test the sigmoid_backward function\n",
        "np.random.seed(231)\n",
        "x = np.random.randn(10, 10)\n",
        "dout = np.random.randn(*x.shape)\n",
        "\n",
        "dx_num = eval_numerical_gradient_array(lambda x: sigmoid_forward(x)[0], x, dout)\n",
        "\n",
        "_, cache = sigmoid_forward(x)\n",
        "dx = sigmoid_backward(dout, cache)\n",
        "\n",
        "# The error should be on the order of e-11\n",
        "print('Testing sigmoid_backward function:')\n",
        "print('dx error: ', rel_error(dx_num, dx))"
      ]
    },
    {
      "cell_type": "markdown",
      "id": "31d4492a",
      "metadata": {
        "id": "31d4492a"
      },
      "source": [
        "# Loss layer: MSE (15 Points)\n",
        "Now implement the loss and gradient for mean squared error in the `mse_loss` function."
      ]
    },
    {
      "cell_type": "code",
      "execution_count": null,
      "id": "92f5cdd9",
      "metadata": {
        "id": "92f5cdd9"
      },
      "outputs": [],
      "source": [
        "def mse_loss(x, y):\n",
        "    \"\"\"\n",
        "    Computes the loss and gradient for MSE loss.\n",
        "\n",
        "    Inputs:\n",
        "    - x: Input data, of shape (N,) where x[i] is the predicted vector for\n",
        "        the i-th input.\n",
        "    - y: Vector of target values, of shape (N,) where y[i] is the target value\n",
        "        for the ith input.\n",
        "\n",
        "    Returns a tuple of:\n",
        "    - loss: Scalar giving the loss\n",
        "    - dx: Gradient of the loss with respect to x\n",
        "    \"\"\"\n",
        "    ###########################################################################\n",
        "    # TODO: Implement the mse_loss function.                                  #\n",
        "    ###########################################################################\n",
        "    # *****START OF YOUR CODE (DO NOT DELETE/MODIFY THIS LINE)*****\n",
        "\n",
        "    x_orig_shape = x.shape\n",
        "    x = np.squeeze(x)\n",
        "\n",
        "    MSE = np.mean((x - y)**2) # compute MSE(x, y)\n",
        "    N = x.shape[0]\n",
        "    dx = 2*(x - y) / N # Derivative of loss with respect to x\n",
        "\n",
        "    # match the shapes\n",
        "    assert dx.shape == x_orig_shape, \"Shape of gradient dx does not match the original shape of input data x\"\n",
        "\n",
        "    return MSE, dx"
      ]
    },
    {
      "cell_type": "code",
      "source": [
        "def mse_loss(x, y):\n",
        "    \"\"\"\n",
        "    Computes the loss and gradient for MSE loss.\n",
        "\n",
        "    Inputs:\n",
        "    - x: Input data, of shape (N,) or (N,1) where x[i] is the predicted value for\n",
        "         the i-th input.\n",
        "    - y: Vector of target values, of shape (N,) where y[i] is the target value\n",
        "         for the i-th input.\n",
        "\n",
        "    Returns a tuple of:\n",
        "    - loss: Scalar giving the loss\n",
        "    - dx: Gradient of the loss with respect to x, with the same shape as x.\n",
        "    \"\"\"\n",
        "    # Save the original shape of x\n",
        "    x_orig_shape = x.shape\n",
        "\n",
        "    # If x has a singleton second dimension, reshape y accordingly\n",
        "    if x.ndim == 2 and x.shape[1] == 1:\n",
        "        y = y.reshape(x.shape)\n",
        "\n",
        "    # Compute MSE loss\n",
        "    MSE = np.mean((x - y)**2)\n",
        "    N = x.shape[0]\n",
        "    dx = 2 * (x - y) / N\n",
        "\n",
        "    # Reshape dx to match the original shape if necessary\n",
        "    dx = dx.reshape(x_orig_shape)\n",
        "\n",
        "    assert dx.shape == x_orig_shape, \"Shape of gradient dx does not match the original shape of input data x\"\n",
        "    return MSE, dx\n"
      ],
      "metadata": {
        "id": "DLYLHkRV34Fn"
      },
      "id": "DLYLHkRV34Fn",
      "execution_count": null,
      "outputs": []
    },
    {
      "cell_type": "markdown",
      "id": "55b5b9db",
      "metadata": {
        "id": "55b5b9db"
      },
      "source": [
        "You can make sure that the implementations are correct by running the following:"
      ]
    },
    {
      "cell_type": "code",
      "execution_count": null,
      "id": "0e850132",
      "metadata": {
        "colab": {
          "base_uri": "https://localhost:8080/"
        },
        "id": "0e850132",
        "outputId": "f18bd78a-19f0-4810-969e-b2b2dc8fba98"
      },
      "outputs": [
        {
          "output_type": "stream",
          "name": "stdout",
          "text": [
            "\n",
            "Testing mse_loss:\n",
            "loss:  1.8672282748726519\n",
            "dx error:  2.8607953262121067e-09\n"
          ]
        }
      ],
      "source": [
        "np.random.seed(231)\n",
        "num_inputs = 50\n",
        "x = np.random.randn(num_inputs)\n",
        "y = np.random.randn(num_inputs)\n",
        "\n",
        "dx_num = eval_numerical_gradient(lambda x: mse_loss(x, y)[0], x, verbose=False)\n",
        "loss, dx = mse_loss(x, y)\n",
        "\n",
        "# Test mse_loss function. Loss should be close to 1.9 and dx error should be around e-9\n",
        "print('\\nTesting mse_loss:')\n",
        "print('loss: ', loss)\n",
        "print('dx error: ', rel_error(dx_num, dx))"
      ]
    },
    {
      "cell_type": "markdown",
      "id": "71a7bb75",
      "metadata": {
        "id": "71a7bb75"
      },
      "source": [
        "# Multi-Layer Fully Connected Network (15 Points)\n",
        "In this part, you will implement a fully connected network with an arbitrary number of hidden layers."
      ]
    },
    {
      "cell_type": "code",
      "execution_count": null,
      "id": "ffd460d2",
      "metadata": {
        "id": "ffd460d2"
      },
      "outputs": [],
      "source": [
        "class FullyConnectedNet(object):\n",
        "    \"\"\"Class for a multi-layer fully connected neural network.\n",
        "\n",
        "    Network contains an arbitrary number of hidden layers, ReLU nonlinearities,\n",
        "    and a softmax loss function for a classification problem or the MSE loss function for\n",
        "    a regression problem. The architecture will be\n",
        "\n",
        "    {affine - relu} x (L - 1) - affine - softmax/mse\n",
        "\n",
        "    where the {...} block is repeated L - 1 times.\n",
        "\n",
        "    Learnable parameters are stored in the self.params dictionary and will be learned\n",
        "    using the Solver class.\n",
        "    \"\"\"\n",
        "\n",
        "    def __init__(\n",
        "        self,\n",
        "        hidden_dims,\n",
        "        input_dim=784,\n",
        "        output_dim=10,\n",
        "        reg=0.0,\n",
        "        weight_scale=1e-2,\n",
        "        dtype=np.float32,\n",
        "    ):\n",
        "        \"\"\"Initialize a new FullyConnectedNet.\n",
        "\n",
        "        Inputs:\n",
        "\n",
        "        - hidden_dims: A list of integers giving the size of each hidden layer.\n",
        "        - input_dim: An integer giving the size of the input.\n",
        "        - output_dim: An integer giving the number of classes to classify. It\n",
        "            is 1 for a regression problem.\n",
        "        - reg: Scalar giving L2 regularization strength.\n",
        "        - weight_scale: Scalar giving the standard deviation for random\n",
        "            initialization of the weights.\n",
        "        - dtype: A numpy datatype object; all computations will be performed using\n",
        "            this datatype. float32 is faster but less accurate, so you should use\n",
        "            float64 for numeric gradient checking.\n",
        "        \"\"\"\n",
        "        self.category = 'regression'\n",
        "        self.reg = reg\n",
        "        self.num_layers = 1 + len(hidden_dims)\n",
        "        self.dtype = dtype\n",
        "        self.params = {}\n",
        "\n",
        "        ############################################################################\n",
        "        # TODO: Initialize the parameters of the network, storing all values in    #\n",
        "        # the self.params dictionary. Store weights and biases for the first layer #\n",
        "        # in W1 and b1; for the second layer use W2 and b2, etc. Weights should be #\n",
        "        # initialized from a normal distribution centered at 0 with standard       #\n",
        "        # deviation equal to weight_scale. Biases should be initialized to zero.   #\n",
        "        #                                                                          #\n",
        "        ############################################################################\n",
        "        # *****START OF YOUR CODE (DO NOT DELETE/MODIFY THIS LINE)*****\n",
        "        layer_dims = [input_dim] + hidden_dims + [output_dim]\n",
        "\n",
        "        for i in range(self.num_layers):\n",
        "            self.params[f'W{i+1}'] = np.random.randn(layer_dims[i], layer_dims[i+1])*weight_scale\n",
        "            self.params[f'b{i+1}'] = np.zeros(layer_dims[i+1])\n",
        "\n",
        "        # *****END OF YOUR CODE (DO NOT DELETE/MODIFY THIS LINE)*****\n",
        "        ############################################################################\n",
        "        #                             END OF YOUR CODE                             #\n",
        "        ############################################################################\n",
        "\n",
        "\n",
        "        # Cast all parameters to the correct datatype.\n",
        "        for k, v in self.params.items():\n",
        "            self.params[k] = v.astype(dtype)\n",
        "\n",
        "    def loss(self, X, y=None):\n",
        "        \"\"\"Compute loss and gradient for the fully connected net.\n",
        "\n",
        "        Inputs:\n",
        "        - X: Array of input data of shape (N, d_1, ..., d_k)\n",
        "        - y: Array of labels / target values, of shape (N,). y[i] gives the\n",
        "            label / target value for X[i].\n",
        "        - show_distributions: Boolean that if enabled and y in none, show output\n",
        "        of each layer to see effects of diffrent approaches\n",
        "\n",
        "        Returns:\n",
        "        If y is None, then run a test-time forward pass of the model and return\n",
        "        scores for a classification problem or the predicted_values for\n",
        "        a regression problem:\n",
        "        - out: Array of shape (N, C) / (N, ) giving classification scores / predicted values, where\n",
        "        scores[i, c] is the classification score for X[i] and class c / predicted_values[i]\n",
        "        is the predicted value for X[i].\n",
        "\n",
        "\n",
        "        If y is not None, then run a training-time forward and backward pass and\n",
        "        return a tuple of:\n",
        "        - loss: Scalar value giving the loss\n",
        "        - grads: Dictionary with the same keys as self.params, mapping parameter\n",
        "            names to gradients of the loss with respect to those parameters.\n",
        "        \"\"\"\n",
        "        X = X.astype(self.dtype)\n",
        "        mode = \"test\" if y is None else \"train\"\n",
        "\n",
        "        ############################################################################\n",
        "        # TODO: Implement the forward pass for the fully connected net, computing  #\n",
        "        # the class scores / target values for X and storing them in the out       #\n",
        "        #  variable.                                                               #\n",
        "        #                                                                          #\n",
        "        ############################################################################\n",
        "        # *****START OF YOUR CODE (DO NOT DELETE/MODIFY THIS LINE)*****\n",
        "        out = X\n",
        "        self.layer_cache = {}\n",
        "        layer_outputs = [] # Store layer outputs for visualization\n",
        "\n",
        "        for i in range(self.num_layers - 1):\n",
        "            W, b = self.params[f'W{i+1}'], self.params[f'b{i+1}']\n",
        "            out, cache = affine_forward(out, W, b)\n",
        "            out, relu_cache = relu_forward(out)\n",
        "            self.layer_cache[i+1] = (cache, relu_cache)\n",
        "            layer_outputs.append(out) # Save output for visualization\n",
        "\n",
        "        W_last, b_last = self.params[f'W{self.num_layers}'], self.params[f'b{self.num_layers}']\n",
        "        out, cache = affine_forward(out, W_last, b_last)\n",
        "        self.layer_cache[self.num_layers] = cache\n",
        "\n",
        "        # *****END OF YOUR CODE (DO NOT DELETE/MODIFY THIS LINE)*****\n",
        "        ############################################################################\n",
        "        #                             END OF YOUR CODE                             #\n",
        "        ############################################################################\n",
        "\n",
        "        # If test mode return early.\n",
        "        if mode == \"test\":\n",
        "            return out\n",
        "\n",
        "        loss, grads = 0.0, {}\n",
        "        ############################################################################\n",
        "        # TODO: Implement the backward pass for the fully connected net. Store the #\n",
        "        # loss in the loss variable and gradients in the grads dictionary. Compute #\n",
        "        # data loss using mse, and make sure that grads[k] holds the               #\n",
        "        # gradients for self.params[k]. Don't forget to add L2 regularization!     #\n",
        "        #                                                                          #\n",
        "        #                                                                          #\n",
        "        # NOTE: To ensure that your implementation matches ours and you pass the   #\n",
        "        # automated tests, make sure that your L2 regularization includes a factor #\n",
        "        # of 0.5 to simplify the expression for the gradient.                      #\n",
        "        ############################################################################\n",
        "        # *****START OF YOUR CODE (DO NOT DELETE/MODIFY THIS LINE)*****\n",
        "\n",
        "        # compute loss\n",
        "        loss, dy = mse_loss(out, y)\n",
        "\n",
        "        # add Regularization to loss\n",
        "        for i in range(self.num_layers):\n",
        "            W = self.params[f'W{i+1}']\n",
        "            loss += 0.5 * self.reg * np.sum(W**2)\n",
        "\n",
        "        # Backpropagation affine\n",
        "        dx, dw, db = affine_backward(dy, self.layer_cache[self.num_layers]) # backpropagation on last layer\n",
        "        grads[f'W{self.num_layers}'] = dw + self.reg * self.params[f'W{self.num_layers}']\n",
        "        grads[f'b{self.num_layers}'] = db\n",
        "\n",
        "        for i in range(self.num_layers - 2, -1, -1): # backpropagation on hidden layers\n",
        "            affine_cache, relu_chache = self.layer_cache[i+1]\n",
        "            dx = relu_backward(dx, relu_chache)\n",
        "            dx, dw, db = affine_backward(dx, affine_cache)\n",
        "            # Regularization\n",
        "            grads[f'W{i+1}'] = dw + self.reg * self.params[f'W{i+1}']\n",
        "            grads[f'b{i+1}'] = db\n",
        "\n",
        "        # *****END OF YOUR CODE (DO NOT DELETE/MODIFY THIS LINE)*****\n",
        "        ############################################################################\n",
        "        #                             END OF YOUR CODE                             #\n",
        "        ############################################################################\n",
        "\n",
        "        return loss, grads"
      ]
    },
    {
      "cell_type": "markdown",
      "id": "a14a2795",
      "metadata": {
        "id": "a14a2795"
      },
      "source": [
        "## Initial Loss and Gradient Check\n",
        "\n",
        "As a sanity check, run the following to check the initial loss and to gradient check the network both with and without regularization. This is a good way to see if the initial losses seem reasonable.\n",
        "\n",
        "For gradient checking, you should expect to see errors around 1e-7 or less."
      ]
    },
    {
      "cell_type": "code",
      "execution_count": null,
      "id": "cf719033",
      "metadata": {
        "colab": {
          "base_uri": "https://localhost:8080/"
        },
        "id": "cf719033",
        "outputId": "3b6cc741-e9d5-4b69-d2ca-02ebd12dbfb2"
      },
      "outputs": [
        {
          "output_type": "stream",
          "name": "stdout",
          "text": [
            "Running check with reg =  0\n",
            "Initial loss:  5466.865706251272\n",
            "W1 relative error: 5.635683954807205e-05\n",
            "W2 relative error: 1.613210683498996e-05\n",
            "W3 relative error: 6.898987504530194e-07\n",
            "b1 relative error: 1.5616081970079422e-06\n",
            "b2 relative error: 4.3057176756698825e-08\n",
            "b3 relative error: 1.6746974192121475e-10\n",
            "Running check with reg =  3.14\n",
            "Initial loss:  5470.037222826219\n",
            "W1 relative error: 1.618239636862678e-05\n",
            "W2 relative error: 0.0004837100232379589\n",
            "W3 relative error: 8.259345108745253e-06\n",
            "b1 relative error: 2.626926800500172e-07\n",
            "b2 relative error: 1.2120991887982816e-07\n",
            "b3 relative error: 1.7983206598641928e-10\n"
          ]
        }
      ],
      "source": [
        "np.random.seed(231)\n",
        "N, D, H1, H2 = 2, 15, 20, 30\n",
        "X = np.random.randn(N, D)\n",
        "y = np.random.randint(123, size=(N,))\n",
        "\n",
        "for reg in [0, 3.14]:\n",
        "    print(\"Running check with reg = \", reg)\n",
        "    model = FullyConnectedNet(\n",
        "        [H1, H2],\n",
        "        input_dim=D,\n",
        "        output_dim=1,\n",
        "        reg=reg,\n",
        "        weight_scale=5e-2,\n",
        "        dtype=np.float64\n",
        "    )\n",
        "\n",
        "    loss, grads = model.loss(X, y)\n",
        "    print(\"Initial loss: \", loss)\n",
        "\n",
        "    # Most of the errors should be on the order of e-7 or smaller.\n",
        "    # NOTE: It is fine however to see an error for W2 on the order of e-5\n",
        "    # for the check when reg = 0.0\n",
        "    for name in sorted(grads):\n",
        "        f = lambda _: model.loss(X, y)[0]\n",
        "        grad_num = eval_numerical_gradient(f, model.params[name], verbose=False, h=1e-5)\n",
        "        print(f\"{name} relative error: {rel_error(grad_num, grads[name])}\")"
      ]
    },
    {
      "cell_type": "markdown",
      "id": "6042ddcf",
      "metadata": {
        "id": "6042ddcf"
      },
      "source": [
        "## SGD+Momentum (10 Points)\n",
        "Stochastic gradient descent with momentum is a widely used update rule that tends to make deep networks converge faster than vanilla stochastic gradient descent.\n",
        "\n",
        "Implement the SGD+momentum update rule in the function `sgd_momentum`.\n",
        "\n",
        "### Question:\n",
        "How does the behavior of the optimization process, specifically the trajectory through the loss landscape, differ when using Stochastic Gradient Descent (SGD) with momentum compared to using vanilla SGD?\n",
        "\n",
        "*SGD with momentum and vanilla SGD behave quite differently when navigating the loss landscape:*\n",
        "\n",
        "- **Noise and Smoothing:**  \n",
        "  Vanilla SGD updates parameters using the current gradient estimate, which can be noisy, especially with mini-batches. This often results in a zigzagging path as the algorithm reacts immediately to each gradient fluctuation. In contrast, momentum accumulates an **exponential moving average** of past gradients. This `“smoothing”` effect means that the update direction is **less sensitive** to individual **noisy gradients**, leading to a more **stable** and **smoother** trajectory through the **loss landscape.**\n",
        "\n",
        "- **Acceleration in Consistent Directions:**  \n",
        "  With momentum, if gradients consistently point in one direction, the velocity builds up over time. This acceleration helps the optimizer traverse flat regions or shallow minima more quickly. Vanilla SGD, lacking this buildup, may progress more slowly in such regions.\n",
        "\n",
        "- **Overcoming Oscillations and Local Irregularities:**  \n",
        "  In areas of **high curvature**, such as narrow valleys, vanilla SGD can oscillate dramatically, often bouncing back and forth along the steep walls. **Momentum helps dampen these oscillations** by effectively `“averaging”` the gradients over several steps. This damping effect allows the optimization process to cut through such regions more directly rather than getting stuck in oscillatory behavior.\n",
        "\n",
        "- **Escaping Local Minima and Saddle Points:**  \n",
        "  Because momentum carries information from **previous iterations**, it can help the optimizer escape shallow local minima or saddle points by providing the necessary inertia to push the parameters out of these traps. Vanilla SGD, on the other hand, might** stall in these areas** due to its reliance on the current gradient only."
      ]
    },
    {
      "cell_type": "code",
      "execution_count": null,
      "id": "2e678506",
      "metadata": {
        "id": "2e678506"
      },
      "outputs": [],
      "source": [
        "def sgd_momentum(w, dw, config=None):\n",
        "    \"\"\"\n",
        "    Performs stochastic gradient descent with momentum.\n",
        "    Inputs:\n",
        "    - w: A numpy array giving the current weights.\n",
        "    - dw: A numpy array of the same shape as w giving the gradient of the\n",
        "    loss with respect to w.\n",
        "    - config: A dictionary containing hyperparameter values such as learning\n",
        "    rate, momentum.\n",
        "\n",
        "    Returns:\n",
        "      - next_w: The next point after the update.\n",
        "      - config: The config dictionary to be passed to the next iteration of the\n",
        "        update rule.\n",
        "\n",
        "    config format:\n",
        "    - learning_rate: Scalar learning rate.\n",
        "    - momentum: Scalar between 0 and 1 giving the momentum value.\n",
        "      Setting momentum = 0 reduces sgd_momentum to stochastic gradient descent.\n",
        "    - velocity: A numpy array of the same shape as w and dw used to store a\n",
        "      moving average of the gradients.\n",
        "    \"\"\"\n",
        "    if config is None:\n",
        "        config = {}\n",
        "    config.setdefault(\"learning_rate\", 1e-2)\n",
        "    config.setdefault(\"momentum\", 0.9)\n",
        "    v = config.get(\"velocity\", np.zeros_like(w))\n",
        "\n",
        "    next_w = None\n",
        "    ###########################################################################\n",
        "    # TODO: Implement the momentum update formula. Store the updated value in #\n",
        "    # the next_w variable. You should also use and update the velocity v.     #\n",
        "    ###########################################################################\n",
        "    # *****START OF YOUR CODE (DO NOT DELETE/MODIFY THIS LINE)*****\n",
        "    momentum, learning_rate = config['momentum'], config['learning_rate']\n",
        "    v = momentum * v - learning_rate * dw # compute the velocity\n",
        "    next_w = w + v # update weights\n",
        "\n",
        "    # *****END OF YOUR CODE (DO NOT DELETE/MODIFY THIS LINE)*****\n",
        "    ###########################################################################\n",
        "    #                             END OF YOUR CODE                            #\n",
        "    ###########################################################################\n",
        "    config[\"velocity\"] = v\n",
        "\n",
        "    return next_w, config"
      ]
    },
    {
      "cell_type": "markdown",
      "id": "f1730d10",
      "metadata": {
        "id": "f1730d10"
      },
      "source": [
        "Run the following to check your implementation. You should see errors less than e-8."
      ]
    },
    {
      "cell_type": "code",
      "execution_count": null,
      "id": "3595fc5b",
      "metadata": {
        "colab": {
          "base_uri": "https://localhost:8080/"
        },
        "id": "3595fc5b",
        "outputId": "c6608af9-6d93-448b-b4a3-e65b2341f2e4"
      },
      "outputs": [
        {
          "output_type": "stream",
          "name": "stdout",
          "text": [
            "next_w error:  8.882347033505819e-09\n",
            "velocity error:  4.269287743278663e-09\n"
          ]
        }
      ],
      "source": [
        "N, D = 4, 5\n",
        "w = np.linspace(-0.4, 0.6, num=N*D).reshape(N, D)\n",
        "dw = np.linspace(-0.6, 0.4, num=N*D).reshape(N, D)\n",
        "v = np.linspace(0.6, 0.9, num=N*D).reshape(N, D)\n",
        "\n",
        "config = {\"learning_rate\": 1e-3, \"velocity\": v}\n",
        "next_w, _ = sgd_momentum(w, dw, config=config)\n",
        "\n",
        "expected_next_w = np.asarray([\n",
        "  [ 0.1406,      0.20738947,  0.27417895,  0.34096842,  0.40775789],\n",
        "  [ 0.47454737,  0.54133684,  0.60812632,  0.67491579,  0.74170526],\n",
        "  [ 0.80849474,  0.87528421,  0.94207368,  1.00886316,  1.07565263],\n",
        "  [ 1.14244211,  1.20923158,  1.27602105,  1.34281053,  1.4096    ]])\n",
        "expected_velocity = np.asarray([\n",
        "  [ 0.5406,      0.55475789,  0.56891579, 0.58307368,  0.59723158],\n",
        "  [ 0.61138947,  0.62554737,  0.63970526,  0.65386316,  0.66802105],\n",
        "  [ 0.68217895,  0.69633684,  0.71049474,  0.72465263,  0.73881053],\n",
        "  [ 0.75296842,  0.76712632,  0.78128421,  0.79544211,  0.8096    ]])\n",
        "\n",
        "# Should see relative errors around e-8 or less\n",
        "print(\"next_w error: \", rel_error(next_w, expected_next_w))\n",
        "print(\"velocity error: \", rel_error(expected_velocity, config[\"velocity\"]))"
      ]
    },
    {
      "cell_type": "markdown",
      "id": "639b0e50",
      "metadata": {
        "id": "639b0e50"
      },
      "source": [
        "# Real World Application\n",
        "Now that we have implemented the core functions and built a multilayer network, and tested it on random data to ensure it functions correctly, It is time to train the model on a real dataset. For this, we will use the California Housing dataset, which contains information about housing prices in different districts of California. The dataset includes features such as median income, house age, and population, making it a useful benchmark for regression tasks. Our goal is to train the network to predict house prices based on these features."
      ]
    },
    {
      "cell_type": "markdown",
      "id": "5e9b7aa1",
      "metadata": {
        "id": "5e9b7aa1"
      },
      "source": [
        "# California housing dataset\n",
        "This is a dataset obtained from the [StatLib repository](https://www.dcc.fc.up.pt/~ltorgo/Regression/cal_housing.html). The data pertains to the houses found in a given California district and some summary stats about them based on the 1990 census data."
      ]
    },
    {
      "cell_type": "code",
      "execution_count": null,
      "id": "b1ee041f",
      "metadata": {
        "colab": {
          "base_uri": "https://localhost:8080/",
          "height": 206
        },
        "id": "b1ee041f",
        "outputId": "1a6d046a-58e5-4039-e3e3-3be217553f55"
      },
      "outputs": [
        {
          "output_type": "execute_result",
          "data": {
            "text/plain": [
              "   MedInc  HouseAge  AveRooms  AveBedrms  Population  AveOccup  Latitude  \\\n",
              "0  8.3252      41.0  6.984127   1.023810       322.0  2.555556     37.88   \n",
              "1  8.3014      21.0  6.238137   0.971880      2401.0  2.109842     37.86   \n",
              "2  7.2574      52.0  8.288136   1.073446       496.0  2.802260     37.85   \n",
              "3  5.6431      52.0  5.817352   1.073059       558.0  2.547945     37.85   \n",
              "4  3.8462      52.0  6.281853   1.081081       565.0  2.181467     37.85   \n",
              "\n",
              "   Longitude  MedHouseVal  \n",
              "0    -122.23        4.526  \n",
              "1    -122.22        3.585  \n",
              "2    -122.24        3.521  \n",
              "3    -122.25        3.413  \n",
              "4    -122.25        3.422  "
            ],
            "text/html": [
              "\n",
              "  <div id=\"df-459b9ebd-0528-483c-9574-8d838aa14e85\" class=\"colab-df-container\">\n",
              "    <div>\n",
              "<style scoped>\n",
              "    .dataframe tbody tr th:only-of-type {\n",
              "        vertical-align: middle;\n",
              "    }\n",
              "\n",
              "    .dataframe tbody tr th {\n",
              "        vertical-align: top;\n",
              "    }\n",
              "\n",
              "    .dataframe thead th {\n",
              "        text-align: right;\n",
              "    }\n",
              "</style>\n",
              "<table border=\"1\" class=\"dataframe\">\n",
              "  <thead>\n",
              "    <tr style=\"text-align: right;\">\n",
              "      <th></th>\n",
              "      <th>MedInc</th>\n",
              "      <th>HouseAge</th>\n",
              "      <th>AveRooms</th>\n",
              "      <th>AveBedrms</th>\n",
              "      <th>Population</th>\n",
              "      <th>AveOccup</th>\n",
              "      <th>Latitude</th>\n",
              "      <th>Longitude</th>\n",
              "      <th>MedHouseVal</th>\n",
              "    </tr>\n",
              "  </thead>\n",
              "  <tbody>\n",
              "    <tr>\n",
              "      <th>0</th>\n",
              "      <td>8.3252</td>\n",
              "      <td>41.0</td>\n",
              "      <td>6.984127</td>\n",
              "      <td>1.023810</td>\n",
              "      <td>322.0</td>\n",
              "      <td>2.555556</td>\n",
              "      <td>37.88</td>\n",
              "      <td>-122.23</td>\n",
              "      <td>4.526</td>\n",
              "    </tr>\n",
              "    <tr>\n",
              "      <th>1</th>\n",
              "      <td>8.3014</td>\n",
              "      <td>21.0</td>\n",
              "      <td>6.238137</td>\n",
              "      <td>0.971880</td>\n",
              "      <td>2401.0</td>\n",
              "      <td>2.109842</td>\n",
              "      <td>37.86</td>\n",
              "      <td>-122.22</td>\n",
              "      <td>3.585</td>\n",
              "    </tr>\n",
              "    <tr>\n",
              "      <th>2</th>\n",
              "      <td>7.2574</td>\n",
              "      <td>52.0</td>\n",
              "      <td>8.288136</td>\n",
              "      <td>1.073446</td>\n",
              "      <td>496.0</td>\n",
              "      <td>2.802260</td>\n",
              "      <td>37.85</td>\n",
              "      <td>-122.24</td>\n",
              "      <td>3.521</td>\n",
              "    </tr>\n",
              "    <tr>\n",
              "      <th>3</th>\n",
              "      <td>5.6431</td>\n",
              "      <td>52.0</td>\n",
              "      <td>5.817352</td>\n",
              "      <td>1.073059</td>\n",
              "      <td>558.0</td>\n",
              "      <td>2.547945</td>\n",
              "      <td>37.85</td>\n",
              "      <td>-122.25</td>\n",
              "      <td>3.413</td>\n",
              "    </tr>\n",
              "    <tr>\n",
              "      <th>4</th>\n",
              "      <td>3.8462</td>\n",
              "      <td>52.0</td>\n",
              "      <td>6.281853</td>\n",
              "      <td>1.081081</td>\n",
              "      <td>565.0</td>\n",
              "      <td>2.181467</td>\n",
              "      <td>37.85</td>\n",
              "      <td>-122.25</td>\n",
              "      <td>3.422</td>\n",
              "    </tr>\n",
              "  </tbody>\n",
              "</table>\n",
              "</div>\n",
              "    <div class=\"colab-df-buttons\">\n",
              "\n",
              "  <div class=\"colab-df-container\">\n",
              "    <button class=\"colab-df-convert\" onclick=\"convertToInteractive('df-459b9ebd-0528-483c-9574-8d838aa14e85')\"\n",
              "            title=\"Convert this dataframe to an interactive table.\"\n",
              "            style=\"display:none;\">\n",
              "\n",
              "  <svg xmlns=\"http://www.w3.org/2000/svg\" height=\"24px\" viewBox=\"0 -960 960 960\">\n",
              "    <path d=\"M120-120v-720h720v720H120Zm60-500h600v-160H180v160Zm220 220h160v-160H400v160Zm0 220h160v-160H400v160ZM180-400h160v-160H180v160Zm440 0h160v-160H620v160ZM180-180h160v-160H180v160Zm440 0h160v-160H620v160Z\"/>\n",
              "  </svg>\n",
              "    </button>\n",
              "\n",
              "  <style>\n",
              "    .colab-df-container {\n",
              "      display:flex;\n",
              "      gap: 12px;\n",
              "    }\n",
              "\n",
              "    .colab-df-convert {\n",
              "      background-color: #E8F0FE;\n",
              "      border: none;\n",
              "      border-radius: 50%;\n",
              "      cursor: pointer;\n",
              "      display: none;\n",
              "      fill: #1967D2;\n",
              "      height: 32px;\n",
              "      padding: 0 0 0 0;\n",
              "      width: 32px;\n",
              "    }\n",
              "\n",
              "    .colab-df-convert:hover {\n",
              "      background-color: #E2EBFA;\n",
              "      box-shadow: 0px 1px 2px rgba(60, 64, 67, 0.3), 0px 1px 3px 1px rgba(60, 64, 67, 0.15);\n",
              "      fill: #174EA6;\n",
              "    }\n",
              "\n",
              "    .colab-df-buttons div {\n",
              "      margin-bottom: 4px;\n",
              "    }\n",
              "\n",
              "    [theme=dark] .colab-df-convert {\n",
              "      background-color: #3B4455;\n",
              "      fill: #D2E3FC;\n",
              "    }\n",
              "\n",
              "    [theme=dark] .colab-df-convert:hover {\n",
              "      background-color: #434B5C;\n",
              "      box-shadow: 0px 1px 3px 1px rgba(0, 0, 0, 0.15);\n",
              "      filter: drop-shadow(0px 1px 2px rgba(0, 0, 0, 0.3));\n",
              "      fill: #FFFFFF;\n",
              "    }\n",
              "  </style>\n",
              "\n",
              "    <script>\n",
              "      const buttonEl =\n",
              "        document.querySelector('#df-459b9ebd-0528-483c-9574-8d838aa14e85 button.colab-df-convert');\n",
              "      buttonEl.style.display =\n",
              "        google.colab.kernel.accessAllowed ? 'block' : 'none';\n",
              "\n",
              "      async function convertToInteractive(key) {\n",
              "        const element = document.querySelector('#df-459b9ebd-0528-483c-9574-8d838aa14e85');\n",
              "        const dataTable =\n",
              "          await google.colab.kernel.invokeFunction('convertToInteractive',\n",
              "                                                    [key], {});\n",
              "        if (!dataTable) return;\n",
              "\n",
              "        const docLinkHtml = 'Like what you see? Visit the ' +\n",
              "          '<a target=\"_blank\" href=https://colab.research.google.com/notebooks/data_table.ipynb>data table notebook</a>'\n",
              "          + ' to learn more about interactive tables.';\n",
              "        element.innerHTML = '';\n",
              "        dataTable['output_type'] = 'display_data';\n",
              "        await google.colab.output.renderOutput(dataTable, element);\n",
              "        const docLink = document.createElement('div');\n",
              "        docLink.innerHTML = docLinkHtml;\n",
              "        element.appendChild(docLink);\n",
              "      }\n",
              "    </script>\n",
              "  </div>\n",
              "\n",
              "\n",
              "<div id=\"df-325a134d-a601-4246-aa6d-f6795dcb9e36\">\n",
              "  <button class=\"colab-df-quickchart\" onclick=\"quickchart('df-325a134d-a601-4246-aa6d-f6795dcb9e36')\"\n",
              "            title=\"Suggest charts\"\n",
              "            style=\"display:none;\">\n",
              "\n",
              "<svg xmlns=\"http://www.w3.org/2000/svg\" height=\"24px\"viewBox=\"0 0 24 24\"\n",
              "     width=\"24px\">\n",
              "    <g>\n",
              "        <path d=\"M19 3H5c-1.1 0-2 .9-2 2v14c0 1.1.9 2 2 2h14c1.1 0 2-.9 2-2V5c0-1.1-.9-2-2-2zM9 17H7v-7h2v7zm4 0h-2V7h2v10zm4 0h-2v-4h2v4z\"/>\n",
              "    </g>\n",
              "</svg>\n",
              "  </button>\n",
              "\n",
              "<style>\n",
              "  .colab-df-quickchart {\n",
              "      --bg-color: #E8F0FE;\n",
              "      --fill-color: #1967D2;\n",
              "      --hover-bg-color: #E2EBFA;\n",
              "      --hover-fill-color: #174EA6;\n",
              "      --disabled-fill-color: #AAA;\n",
              "      --disabled-bg-color: #DDD;\n",
              "  }\n",
              "\n",
              "  [theme=dark] .colab-df-quickchart {\n",
              "      --bg-color: #3B4455;\n",
              "      --fill-color: #D2E3FC;\n",
              "      --hover-bg-color: #434B5C;\n",
              "      --hover-fill-color: #FFFFFF;\n",
              "      --disabled-bg-color: #3B4455;\n",
              "      --disabled-fill-color: #666;\n",
              "  }\n",
              "\n",
              "  .colab-df-quickchart {\n",
              "    background-color: var(--bg-color);\n",
              "    border: none;\n",
              "    border-radius: 50%;\n",
              "    cursor: pointer;\n",
              "    display: none;\n",
              "    fill: var(--fill-color);\n",
              "    height: 32px;\n",
              "    padding: 0;\n",
              "    width: 32px;\n",
              "  }\n",
              "\n",
              "  .colab-df-quickchart:hover {\n",
              "    background-color: var(--hover-bg-color);\n",
              "    box-shadow: 0 1px 2px rgba(60, 64, 67, 0.3), 0 1px 3px 1px rgba(60, 64, 67, 0.15);\n",
              "    fill: var(--button-hover-fill-color);\n",
              "  }\n",
              "\n",
              "  .colab-df-quickchart-complete:disabled,\n",
              "  .colab-df-quickchart-complete:disabled:hover {\n",
              "    background-color: var(--disabled-bg-color);\n",
              "    fill: var(--disabled-fill-color);\n",
              "    box-shadow: none;\n",
              "  }\n",
              "\n",
              "  .colab-df-spinner {\n",
              "    border: 2px solid var(--fill-color);\n",
              "    border-color: transparent;\n",
              "    border-bottom-color: var(--fill-color);\n",
              "    animation:\n",
              "      spin 1s steps(1) infinite;\n",
              "  }\n",
              "\n",
              "  @keyframes spin {\n",
              "    0% {\n",
              "      border-color: transparent;\n",
              "      border-bottom-color: var(--fill-color);\n",
              "      border-left-color: var(--fill-color);\n",
              "    }\n",
              "    20% {\n",
              "      border-color: transparent;\n",
              "      border-left-color: var(--fill-color);\n",
              "      border-top-color: var(--fill-color);\n",
              "    }\n",
              "    30% {\n",
              "      border-color: transparent;\n",
              "      border-left-color: var(--fill-color);\n",
              "      border-top-color: var(--fill-color);\n",
              "      border-right-color: var(--fill-color);\n",
              "    }\n",
              "    40% {\n",
              "      border-color: transparent;\n",
              "      border-right-color: var(--fill-color);\n",
              "      border-top-color: var(--fill-color);\n",
              "    }\n",
              "    60% {\n",
              "      border-color: transparent;\n",
              "      border-right-color: var(--fill-color);\n",
              "    }\n",
              "    80% {\n",
              "      border-color: transparent;\n",
              "      border-right-color: var(--fill-color);\n",
              "      border-bottom-color: var(--fill-color);\n",
              "    }\n",
              "    90% {\n",
              "      border-color: transparent;\n",
              "      border-bottom-color: var(--fill-color);\n",
              "    }\n",
              "  }\n",
              "</style>\n",
              "\n",
              "  <script>\n",
              "    async function quickchart(key) {\n",
              "      const quickchartButtonEl =\n",
              "        document.querySelector('#' + key + ' button');\n",
              "      quickchartButtonEl.disabled = true;  // To prevent multiple clicks.\n",
              "      quickchartButtonEl.classList.add('colab-df-spinner');\n",
              "      try {\n",
              "        const charts = await google.colab.kernel.invokeFunction(\n",
              "            'suggestCharts', [key], {});\n",
              "      } catch (error) {\n",
              "        console.error('Error during call to suggestCharts:', error);\n",
              "      }\n",
              "      quickchartButtonEl.classList.remove('colab-df-spinner');\n",
              "      quickchartButtonEl.classList.add('colab-df-quickchart-complete');\n",
              "    }\n",
              "    (() => {\n",
              "      let quickchartButtonEl =\n",
              "        document.querySelector('#df-325a134d-a601-4246-aa6d-f6795dcb9e36 button');\n",
              "      quickchartButtonEl.style.display =\n",
              "        google.colab.kernel.accessAllowed ? 'block' : 'none';\n",
              "    })();\n",
              "  </script>\n",
              "</div>\n",
              "\n",
              "    </div>\n",
              "  </div>\n"
            ],
            "application/vnd.google.colaboratory.intrinsic+json": {
              "type": "dataframe",
              "summary": "{\n  \"name\": \"california_housing\",\n  \"rows\": 5,\n  \"fields\": [\n    {\n      \"column\": \"MedInc\",\n      \"properties\": {\n        \"dtype\": \"number\",\n        \"std\": 1.9218775476080674,\n        \"min\": 3.8462,\n        \"max\": 8.3252,\n        \"num_unique_values\": 5,\n        \"samples\": [\n          8.3014,\n          3.8462,\n          7.2574\n        ],\n        \"semantic_type\": \"\",\n        \"description\": \"\"\n      }\n    },\n    {\n      \"column\": \"HouseAge\",\n      \"properties\": {\n        \"dtype\": \"number\",\n        \"std\": 13.501851724856113,\n        \"min\": 21.0,\n        \"max\": 52.0,\n        \"num_unique_values\": 3,\n        \"samples\": [\n          41.0,\n          21.0,\n          52.0\n        ],\n        \"semantic_type\": \"\",\n        \"description\": \"\"\n      }\n    },\n    {\n      \"column\": \"AveRooms\",\n      \"properties\": {\n        \"dtype\": \"number\",\n        \"std\": 0.9705323807243326,\n        \"min\": 5.8173515981735155,\n        \"max\": 8.288135593220339,\n        \"num_unique_values\": 5,\n        \"samples\": [\n          6.238137082601054,\n          6.281853281853282,\n          8.288135593220339\n        ],\n        \"semantic_type\": \"\",\n        \"description\": \"\"\n      }\n    },\n    {\n      \"column\": \"AveBedrms\",\n      \"properties\": {\n        \"dtype\": \"number\",\n        \"std\": 0.04661885487529508,\n        \"min\": 0.9718804920913884,\n        \"max\": 1.0810810810810811,\n        \"num_unique_values\": 5,\n        \"samples\": [\n          0.9718804920913884,\n          1.0810810810810811,\n          1.073446327683616\n        ],\n        \"semantic_type\": \"\",\n        \"description\": \"\"\n      }\n    },\n    {\n      \"column\": \"Population\",\n      \"properties\": {\n        \"dtype\": \"number\",\n        \"std\": 862.3365352343596,\n        \"min\": 322.0,\n        \"max\": 2401.0,\n        \"num_unique_values\": 5,\n        \"samples\": [\n          2401.0,\n          565.0,\n          496.0\n        ],\n        \"semantic_type\": \"\",\n        \"description\": \"\"\n      }\n    },\n    {\n      \"column\": \"AveOccup\",\n      \"properties\": {\n        \"dtype\": \"number\",\n        \"std\": 0.2881316535489867,\n        \"min\": 2.109841827768014,\n        \"max\": 2.8022598870056497,\n        \"num_unique_values\": 5,\n        \"samples\": [\n          2.109841827768014,\n          2.1814671814671813,\n          2.8022598870056497\n        ],\n        \"semantic_type\": \"\",\n        \"description\": \"\"\n      }\n    },\n    {\n      \"column\": \"Latitude\",\n      \"properties\": {\n        \"dtype\": \"number\",\n        \"std\": 0.0130384048104057,\n        \"min\": 37.85,\n        \"max\": 37.88,\n        \"num_unique_values\": 3,\n        \"samples\": [\n          37.88,\n          37.86,\n          37.85\n        ],\n        \"semantic_type\": \"\",\n        \"description\": \"\"\n      }\n    },\n    {\n      \"column\": \"Longitude\",\n      \"properties\": {\n        \"dtype\": \"number\",\n        \"std\": 0.013038404810404884,\n        \"min\": -122.25,\n        \"max\": -122.22,\n        \"num_unique_values\": 4,\n        \"samples\": [\n          -122.22,\n          -122.25,\n          -122.23\n        ],\n        \"semantic_type\": \"\",\n        \"description\": \"\"\n      }\n    },\n    {\n      \"column\": \"MedHouseVal\",\n      \"properties\": {\n        \"dtype\": \"number\",\n        \"std\": 0.4708973348830931,\n        \"min\": 3.413,\n        \"max\": 4.526,\n        \"num_unique_values\": 5,\n        \"samples\": [\n          3.585,\n          3.422,\n          3.521\n        ],\n        \"semantic_type\": \"\",\n        \"description\": \"\"\n      }\n    }\n  ]\n}"
            }
          },
          "metadata": {},
          "execution_count": 27
        }
      ],
      "source": [
        "california_housing = fetch_california_housing(as_frame=True)\n",
        "california_housing.frame.head()"
      ]
    },
    {
      "cell_type": "code",
      "execution_count": null,
      "id": "bbc5ad10",
      "metadata": {
        "colab": {
          "base_uri": "https://localhost:8080/"
        },
        "id": "bbc5ad10",
        "outputId": "2e2fb6ca-09bb-49cf-de9d-2fb6d20aa57e"
      },
      "outputs": [
        {
          "output_type": "stream",
          "name": "stdout",
          "text": [
            "Train data shape:  (15640, 8)\n",
            "Train target values shape:  (15640,)\n",
            "Validation data shape:  (2500, 8)\n",
            "Validation target values shape:  (2500,)\n",
            "Test data shape:  (2500, 8)\n",
            "Test target values shape:  (2500,)\n"
          ]
        }
      ],
      "source": [
        "X_train, y_train, X_val, y_val, X_test, y_test = get_california_housing_data()\n",
        "print('Train data shape: ', X_train.shape)\n",
        "print('Train target values shape: ', y_train.shape)\n",
        "print('Validation data shape: ', X_val.shape)\n",
        "print('Validation target values shape: ', y_val.shape)\n",
        "print('Test data shape: ', X_test.shape)\n",
        "print('Test target values shape: ', y_test.shape)"
      ]
    },
    {
      "cell_type": "code",
      "execution_count": null,
      "id": "30a1eeb3",
      "metadata": {
        "id": "30a1eeb3"
      },
      "outputs": [],
      "source": [
        "X_train, X_val, X_test = get_california_housing_normalized__data(X_train, X_val, X_test)"
      ]
    },
    {
      "cell_type": "markdown",
      "id": "a1179b5c",
      "metadata": {
        "id": "a1179b5c"
      },
      "source": [
        "# Training (25)\n",
        "Train the best fully connected model that you can on california housing, storing your best model in the `california_housing_best_model` variable.\n",
        "Your final score depends on the accuracy(since your model is performing regression accuracy is equal to loss) of your best model reported in this notebook."
      ]
    },
    {
      "cell_type": "code",
      "execution_count": null,
      "id": "2fae7eca",
      "metadata": {
        "colab": {
          "base_uri": "https://localhost:8080/"
        },
        "id": "2fae7eca",
        "outputId": "268231a4-ee77-47b8-f74e-347d4a6a1b35"
      },
      "outputs": [
        {
          "output_type": "stream",
          "name": "stdout",
          "text": [
            "(Iteration 1 / 620) loss: 3.919955\n",
            "(Epoch 0 / 10) train RMS error: 1.927062; val RMS error: 2.603899\n",
            "(Epoch 1 / 10) train RMS error: 1.239998; val RMS error: 1.487952\n",
            "(Iteration 101 / 620) loss: 1.764130\n",
            "(Epoch 2 / 10) train RMS error: 1.236412; val RMS error: 1.534846\n",
            "(Epoch 3 / 10) train RMS error: 1.157332; val RMS error: 1.542560\n",
            "(Iteration 201 / 620) loss: 1.402207\n",
            "(Epoch 4 / 10) train RMS error: 1.183890; val RMS error: 1.535710\n",
            "(Iteration 301 / 620) loss: 1.568618\n",
            "(Epoch 5 / 10) train RMS error: 1.245983; val RMS error: 1.527583\n",
            "(Epoch 6 / 10) train RMS error: 1.253241; val RMS error: 1.534486\n",
            "(Iteration 401 / 620) loss: 1.551661\n",
            "(Epoch 7 / 10) train RMS error: 1.208999; val RMS error: 1.527867\n",
            "(Epoch 8 / 10) train RMS error: 1.232434; val RMS error: 1.524172\n",
            "(Iteration 501 / 620) loss: 1.534423\n",
            "(Epoch 9 / 10) train RMS error: 1.169899; val RMS error: 1.524826\n",
            "(Iteration 601 / 620) loss: 1.566576\n",
            "(Epoch 10 / 10) train RMS error: 1.215847; val RMS error: 1.502768\n"
          ]
        }
      ],
      "source": [
        "california_housing_best_model = None\n",
        "\n",
        "################################################################################\n",
        "# TODO: Train the best FullyConnectedNet that you can on california housing.   #\n",
        "# You might find batch normalization useful. Store your best model in          #\n",
        "# the best_model variable.                                                     #\n",
        "################################################################################\n",
        "# *****START OF YOUR CODE (DO NOT DELETE/MODIFY THIS LINE)*****\n",
        "\n",
        "data = {\n",
        "    'X_train': X_train,\n",
        "    'y_train': y_train.astype(int),\n",
        "    'X_val': X_val,\n",
        "    'y_val': y_val.astype(int),\n",
        "    'X_test': X_test,\n",
        "    'y_test': y_test.astype(int)\n",
        "    }\n",
        "\n",
        "# feel free to define your own model and test with different models.\n",
        "model = FullyConnectedNet(hidden_dims=[50, 35],\n",
        "                          input_dim=X_train.shape[1],\n",
        "                          output_dim=1,\n",
        "                          reg=1e-3,\n",
        "                          weight_scale=1e-2,\n",
        "                          dtype=np.float32) # model\n",
        "\n",
        "# feel free to change the hyper-parameters.\n",
        "solver = Solver(model, data,\n",
        "                update_rule=sgd_momentum,\n",
        "                optim_config={\n",
        "                  'learning_rate': 3e-3,\n",
        "                },\n",
        "                lr_decay=0.94,\n",
        "                num_epochs=10, batch_size=250,\n",
        "                print_every=100)\n",
        "solver.train()\n",
        "\n",
        "california_housing_solver = solver\n",
        "california_housing_best_model = model"
      ]
    },
    {
      "cell_type": "markdown",
      "id": "y2J1QE8lCl9c",
      "metadata": {
        "id": "y2J1QE8lCl9c"
      },
      "source": [
        "# Visualization (5)\n",
        "\n",
        "Choose and apply several relevant visualization techniques to evaluate the performance and behavior of a regression model. For each chosen technique, provide:\n",
        "\n",
        "1. A brief description of the method and its purpose.\n",
        "2. A demonstration of the method. (plot it)\n",
        "3. An explanation of the insights gained from the visualization, focusing on what it reveals about the model's effectiveness."
      ]
    },
    {
      "cell_type": "code",
      "execution_count": null,
      "id": "43e51742",
      "metadata": {
        "colab": {
          "base_uri": "https://localhost:8080/",
          "height": 1000
        },
        "id": "43e51742",
        "outputId": "77e14828-f435-40bb-98b9-556ab5ff3e53"
      },
      "outputs": [
        {
          "output_type": "display_data",
          "data": {
            "text/plain": [
              "<Figure size 1500x1200 with 2 Axes>"
            ],
            "image/png": "[encoded data removed]"
          },
          "metadata": {}
        }
      ],
      "source": [
        "# Run this cell to visualize training loss and train / val RMS error\n",
        "\n",
        "def visualize_training_results(solver, title_prefix=\"\"):\n",
        "    \"\"\"\n",
        "    TODO: Implement a function to visualize training loss and train/validation RMS error.\n",
        "\n",
        "    Parameters:\n",
        "        - solver: An object containing 'loss_history', 'train_acc_history', and 'val_acc_history'.\n",
        "        - title_prefix: A string to prefix the titles (optional).\n",
        "\n",
        "    Returns:\n",
        "        None\n",
        "    \"\"\"\n",
        "    # TODO: Set figure size\n",
        "    plt.figure(figsize=(15, 12)) # Replace with correct function to create figure\n",
        "\n",
        "    # TODO: Plot training loss history\n",
        "    plt.subplot(2, 1, 1) # Replace with correct function to create subplot\n",
        "    plt.title(title_prefix + \"Training Loss\") # Replace with correct function to set title\n",
        "    plt.plot(solver.loss_history, 'o') # Replace with correct function to plot loss history\n",
        "    plt.xlabel('Iteration') # Replace with correct function to set x-axis label\n",
        "\n",
        "    # TODO: Plot train and validation RMS error\n",
        "    plt.subplot(2, 1, 2) # Replace with correct function to create subplot\n",
        "    plt.title(title_prefix + \"RMSE Error\") # Replace with correct function to set title\n",
        "    plt.plot(solver.train_acc_history, 'o-', label='train') # Replace with correct function to plot training accuracy\n",
        "    plt.plot(solver.val_acc_history, 'o-', label='val') # Replace with correct function to plot validation accuracy\n",
        "    plt.xlabel('Epoch') # Replace with correct function to set x-axis label\n",
        "    plt.legend(loc='lower right')  # Replace with correct function to add legend\n",
        "\n",
        "    # TODO: Show the final plot\n",
        "    plt.show() # Replace with correct function to display the plot\n",
        "\n",
        "#TODO: visualize_training_results(california_housing_solver)\n",
        "visualize_training_results(california_housing_solver)"
      ]
    }
  ],
  "metadata": {
    "colab": {
      "provenance": []
    },
    "kernelspec": {
      "display_name": "Python 3 (ipykernel)",
      "language": "python",
      "name": "python3"
    },
    "language_info": {
      "codemirror_mode": {
        "name": "ipython",
        "version": 3
      },
      "file_extension": ".py",
      "mimetype": "text/x-python",
      "name": "python",
      "nbconvert_exporter": "python",
      "pygments_lexer": "ipython3",
      "version": "3.9.13"
    }
  },
  "nbformat": 4,
  "nbformat_minor": 5
}