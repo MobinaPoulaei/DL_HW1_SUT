{
  "cells": [
    {
      "cell_type": "markdown",
      "metadata": {
        "id": "5e5fd69e"
      },
      "source": [
        "<div align=\"center\">\n",
        "    <img src=\"https://www.sharif.ir/documents/20124/0/logo-fa-IR.png/4d9b72bc-494b-ed5a-d3bb-e7dfd319aec8?t=1609608338755\" alt=\"Logo\" width=\"200\">\n",
        "    <p><b>HW1 @ Deep Learning Course, Dr. Soleymani</b></p>\n",
        "    <p><b>ِDesinged by Amirmahdi Meighani</b></p>\n",
        "</div>\n",
        "\n",
        "---\n",
        "\n"
      ]
    },
    {
      "cell_type": "markdown",
      "metadata": {
        "id": "sJ87dPg0aerE"
      },
      "source": [
        "*Full Name:* Mobina Poulaei\n",
        "\n",
        "*Student Number:* 403206962"
      ]
    },
    {
      "cell_type": "markdown",
      "metadata": {
        "id": "CiTc9GwyxFbP"
      },
      "source": [
        "# Efficient Gradient Checkpointing for Memory-Constrained Deep Learning (50 points)\n",
        "Deep learning experiments are often limited by GPU memory constraints, making it challenging to train large models. To overcome this, we implemented gradient checkpointing, a technique that significantly reduces memory usage by strategically storing intermediate activations and recomputing them during backpropagation. This allows us to train models that would otherwise exceed our GPU’s memory capacity.\n",
        "\n",
        "In this guide, you'll first implement gradient checkpointing from scratch to understand its inner workings. Then, you'll learn how to leverage PyTorch's built-in checkpointing feature for more efficient deep learning workflows."
      ]
    },
    {
      "cell_type": "markdown",
      "metadata": {
        "id": "-tcGtSaizW0e"
      },
      "source": [
        "### How Gradient Checkpointing Works\n",
        "We divide the neural network into segments and only store activations at the segment boundaries (checkpoints). The activations for intermediate layers are discarded and recomputed during backpropagation.\n",
        "\n",
        "Step-by-Step Process:\n",
        "\n",
        "\n",
        "\n",
        "*   **Forward Pass (Training Phase)**\n",
        "\n",
        "\n",
        "\n",
        "1.  Divide the model into segments (e.g., every few layers).\n",
        "2.  Save activations only at checkpoint layers.\n",
        "3.  Discard activations of intermediate layers.\n",
        "4.  Proceed as usual to compute the final output.\n",
        "\n",
        "\n",
        "\n",
        "*   **Backward Pass (Gradient Calculation)**\n",
        "\n",
        "\n",
        "\n",
        "1. Recompute missing activations for each segment.\n",
        "2. Compute gradients using the recomputed activations.\n",
        "3. Update model parameters with computed gradients.\n",
        "\n",
        "\n",
        "By recomputing only small segments at a time, we save significant memory while keeping the computational cost manageable.\n"
      ]
    },
    {
      "cell_type": "markdown",
      "metadata": {
        "id": "6VBfGyOGyMou"
      },
      "source": [
        "First import what you need and check your GPU."
      ]
    },
    {
      "cell_type": "code",
      "execution_count": 1,
      "metadata": {
        "id": "KDhYof0c_WJQ"
      },
      "outputs": [],
      "source": [
        "import time\n",
        "import torch\n",
        "import torch.nn as nn\n",
        "import torch.optim as optim\n",
        "\n",
        "# TODO: Your imports\n",
        "from tqdm import tqdm\n",
        "import matplotlib.pyplot as plt\n",
        "from torch.utils.data import TensorDataset, DataLoader\n",
        "# End of TODO"
      ]
    },
    {
      "cell_type": "code",
      "execution_count": 2,
      "metadata": {
        "colab": {
          "base_uri": "https://localhost:8080/"
        },
        "id": "IXVCjK-oyCbW",
        "outputId": "415363c2-2812-4216-c78b-584c1316041a"
      },
      "outputs": [
        {
          "output_type": "stream",
          "name": "stdout",
          "text": [
            "Using device: cuda\n"
          ]
        }
      ],
      "source": [
        "# Check for GPU availability\n",
        "device = torch.device(\"cuda\" if torch.cuda.is_available() else \"cpu\")\n",
        "print(f\"Using device: {device}\") # You must use cuda for this notebook\n",
        "\n",
        "# Function to measure GPU memory usage\n",
        "def get_gpu_memory_usage():\n",
        "    # Todo: return the gpu memory useage for comparison\n",
        "    if torch.cuda.is_available():\n",
        "        memory_usage = torch.cuda.memory_allocated() / 1024**2\n",
        "        return memory_usage\n",
        "    else:\n",
        "      return 0\n",
        "    # End of Todo"
      ]
    },
    {
      "cell_type": "markdown",
      "metadata": {
        "id": "xK84pCyvyYpG"
      },
      "source": [
        "We have created a small model for using it with and with out lazy gradient. You can change it if you like."
      ]
    },
    {
      "cell_type": "code",
      "execution_count": 3,
      "metadata": {
        "id": "xoGbByYRIavG"
      },
      "outputs": [],
      "source": [
        "# Define a model for intensive GPU usage\n",
        "# You can change it\n",
        "class Model(nn.Module):\n",
        "    def __init__(self):\n",
        "        super(Model, self).__init__()\n",
        "\n",
        "        self.before = nn.Sequential(\n",
        "            nn.Linear(200*200, 100),\n",
        "            nn.ReLU(),\n",
        "            nn.Linear(100, 32),\n",
        "            nn.ReLU(),\n",
        "        )\n",
        "\n",
        "        self.after = nn.Sequential(\n",
        "            nn.Linear(32, 3000),\n",
        "            nn.ReLU(),\n",
        "            nn.Linear(3000, 200*200),\n",
        "            nn.ReLU(),\n",
        "            nn.Linear(200*200, 1),\n",
        "        )\n",
        "\n",
        "    def forward(self, x):\n",
        "        bottleneck_out = self.before(x)\n",
        "        final_out = self.after(bottleneck_out)\n",
        "        return final_out, bottleneck_out"
      ]
    },
    {
      "cell_type": "code",
      "execution_count": 4,
      "metadata": {
        "id": "B749SC2jysWf"
      },
      "outputs": [],
      "source": [
        "def create_dataloader(batch_size=128):\n",
        "    # Todo: Create synthetic data and return a dataloader\n",
        "    # The data must be compatible with the model you use\n",
        "    X = torch.randn(1200, 200*200, device=device)\n",
        "    y = torch.randn(1200, 1, device=device)\n",
        "    dataset = TensorDataset(X, y)\n",
        "    dataloader = DataLoader(dataset, batch_size=batch_size, shuffle=True)\n",
        "    return dataloader\n",
        "    # End of Todo"
      ]
    },
    {
      "cell_type": "code",
      "source": [
        "def train_model(use_lazy_grad=False, num_epochs=1):\n",
        "    dataloader = create_dataloader()\n",
        "    print('Data is Created')\n",
        "    model = Model().to(device)\n",
        "    optimizer = optim.Adam(model.parameters(), lr=0.001)\n",
        "    criterion = nn.MSELoss()\n",
        "\n",
        "    mem_usage = []\n",
        "    start_time = time.time()\n",
        "\n",
        "    for epoch in range(num_epochs):\n",
        "        for batch_x, batch_y in tqdm(dataloader):\n",
        "\n",
        "            optimizer.zero_grad()\n",
        "            batch_x.requires_grad = True  # Track gradients if needed\n",
        "\n",
        "            final_out, bottleneck_out = model(batch_x)\n",
        "\n",
        "            if use_lazy_grad:\n",
        "                #Todo: implement the lazy gradient method, using the bottleneck\n",
        "                # as the only segmentation. You should compute gradient w.r.t\n",
        "                # bottleneck output and then backpropagate manually\n",
        "                bottleneck_out_detached = bottleneck_out.detach().requires_grad_()\n",
        "                final_out_detached = model.after(bottleneck_out_detached)\n",
        "                loss = criterion(final_out_detached, batch_y)\n",
        "\n",
        "                # Compute gradient w.r.t bottleneck output\n",
        "                grad_bottleneck = torch.autograd.grad(loss, bottleneck_out_detached, retain_graph=True)[0]\n",
        "\n",
        "                # Backpropagate manually\n",
        "                bottleneck_out.backward(grad_bottleneck)\n",
        "                # End of Todo\n",
        "\n",
        "            else:\n",
        "                # Todo: normal back prop of loss\n",
        "                loss = criterion(final_out, batch_y)\n",
        "                loss.backward()\n",
        "                # End of TODO\n",
        "\n",
        "            optimizer.step()\n",
        "            mem_usage.append(get_gpu_memory_usage())\n",
        "\n",
        "    elapsed_time = time.time() - start_time\n",
        "    return mem_usage, elapsed_time"
      ],
      "metadata": {
        "id": "bdWYDDKyTtqN"
      },
      "execution_count": 5,
      "outputs": []
    },
    {
      "cell_type": "code",
      "execution_count": 6,
      "metadata": {
        "colab": {
          "base_uri": "https://localhost:8080/"
        },
        "id": "4HIHESsQzC4X",
        "outputId": "75cb8486-9246-4b6d-c2c3-899bd7b26736"
      },
      "outputs": [
        {
          "output_type": "stream",
          "name": "stdout",
          "text": [
            "Data is Created\n"
          ]
        },
        {
          "output_type": "stream",
          "name": "stderr",
          "text": [
            "100%|██████████| 10/10 [00:01<00:00,  8.39it/s]\n"
          ]
        },
        {
          "output_type": "stream",
          "name": "stdout",
          "text": [
            "Data is Created\n"
          ]
        },
        {
          "output_type": "stream",
          "name": "stderr",
          "text": [
            "100%|██████████| 10/10 [00:00<00:00, 268.98it/s]\n"
          ]
        }
      ],
      "source": [
        "# TODO:\n",
        "# Run training with and without lazy gradient propagation\n",
        "# Note that you should empty cache of cuda before, between and after your trainings\n",
        "# So your results will be valid. Save the mem_usage and elapsed_time of each one\n",
        "\n",
        "def clear_cuda_cache():\n",
        "    torch.cuda.empty_cache()\n",
        "    torch.cuda.synchronize()\n",
        "\n",
        "# Run training without lazy gradients\n",
        "clear_cuda_cache()\n",
        "mem_usage_normal, elapsed_time_normal = train_model(use_lazy_grad=False, num_epochs=1)\n",
        "clear_cuda_cache()\n",
        "\n",
        "# Run training with lazy gradients\n",
        "mem_usage_lazy, elapsed_time_lazy = train_model(use_lazy_grad=True, num_epochs=1)\n",
        "clear_cuda_cache()\n",
        "\n",
        "# End of TODO"
      ]
    },
    {
      "cell_type": "code",
      "execution_count": 7,
      "metadata": {
        "colab": {
          "base_uri": "https://localhost:8080/",
          "height": 445
        },
        "id": "4Wri9xYQ1wdN",
        "outputId": "b7f4524f-5353-40f8-9b7e-5deef03ce237"
      },
      "outputs": [
        {
          "output_type": "display_data",
          "data": {
            "text/plain": [
              "<Figure size 600x400 with 1 Axes>"
            ],
            "image/png": "[encoded data removed]"
          },
          "metadata": {}
        },
        {
          "output_type": "stream",
          "name": "stdout",
          "text": [
            "Standard Backprop Time: 1.2 sec\n",
            "Lazy Gradient Backprop Time: 0.04 sec\n"
          ]
        }
      ],
      "source": [
        "# TODO: Plot memory usage and compare the time\n",
        "# that each method needs\n",
        "steps = list(range(len(mem_usage_normal)))\n",
        "plt.figure(figsize=(6, 4))\n",
        "plt.plot(steps, mem_usage_normal, label=\"Standard Backprop\", color='tab:blue')\n",
        "plt.plot(steps, mem_usage_lazy, label=\"Lazy Gradient Backprop\", color='tab:orange')\n",
        "plt.xlabel(\"Training Steps\")\n",
        "plt.ylabel(\"GPU Memory Usage (MB)\")\n",
        "plt.title(\"GPU Memory Usage\")\n",
        "plt.legend()\n",
        "plt.show()\n",
        "print('Standard Backprop Time:', round(elapsed_time_normal, 2), 'sec')\n",
        "print('Lazy Gradient Backprop Time:', round(elapsed_time_lazy, 2), 'sec')\n",
        "# End of TODO"
      ]
    },
    {
      "cell_type": "markdown",
      "metadata": {
        "id": "BCfcyl9H16Sb"
      },
      "source": [
        "PyTorch provides a built-in gradient checkpointing feature through torch.utils.checkpoint. This makes it easy to implement checkpointing without manually managing activation storage and recomputation.\n",
        "\n"
      ]
    },
    {
      "cell_type": "markdown",
      "metadata": {
        "id": "LLrb5hYsHcjv"
      },
      "source": [
        "First, let's create a simple Sequential model and checkpoint it. We can also verify that the checkpointing doesn't change the value of gradients or the activations."
      ]
    },
    {
      "cell_type": "code",
      "execution_count": 8,
      "metadata": {
        "id": "etml_C4IHda9",
        "colab": {
          "base_uri": "https://localhost:8080/"
        },
        "outputId": "88453ec3-227d-41d9-82e0-6f16c025203b"
      },
      "outputs": [
        {
          "output_type": "stream",
          "name": "stderr",
          "text": [
            "/usr/local/lib/python3.11/dist-packages/torch/utils/checkpoint.py:553: UserWarning: torch.utils.checkpoint.checkpoint_sequential: the use_reentrant parameter should be passed explicitly. In version 2.5 we will raise an exception if use_reentrant is not passed. use_reentrant=False is recommended, but if you need to preserve the current default behavior, you can pass use_reentrant=True. Refer to docs for more details on the differences between the two variants.\n",
            "  warnings.warn(\n"
          ]
        }
      ],
      "source": [
        "from torch.utils.checkpoint import checkpoint_sequential\n",
        "\n",
        "# TODO: create a simple Sequential model and then create the model inputs.\n",
        "# get the modules in the model. These modules should be in the order\n",
        "# the model should be executed. Then set the number of checkpoint segments.\n",
        "# Now call the checkpoint API and get the output.\n",
        "# finally run the backwards pass on the model. For backwards pass, for simplicity,\n",
        "# we won't calculate the loss and rather backprop on output.sum()\n",
        "\n",
        "model = nn.Sequential(\n",
        "    nn.Linear(10, 20),\n",
        "    nn.ReLU(),\n",
        "    nn.Linear(20, 10),\n",
        "    nn.ReLU(),\n",
        "    nn.Linear(10, 5)\n",
        ")\n",
        "\n",
        "inputs = torch.randn(5, 10, requires_grad=True)\n",
        "modules = list(model.children())\n",
        "num_segments = 3  # Splitting the model into 3 segments\n",
        "out = checkpoint_sequential(modules, num_segments, inputs)\n",
        "out.sum().backward()\n",
        "# End of TODO\n",
        "\n",
        "# Now we save the output and parameter gradients that we will use for\n",
        "# comparison purposes with the non-checkpointed run.\n",
        "output_checkpointed = out.data.clone()\n",
        "grad_checkpointed = {}\n",
        "for name, param in model.named_parameters():\n",
        "    grad_checkpointed[name] = param.grad.data.clone()"
      ]
    },
    {
      "cell_type": "markdown",
      "metadata": {
        "id": "egn1PoE2L65t"
      },
      "source": [
        "Now that we have executed the checkpointed pass on the model, let's also run the non-checkpointed model and verify that the checkpoint API doesn't change the model outputs or the parameter gradients."
      ]
    },
    {
      "cell_type": "code",
      "execution_count": 9,
      "metadata": {
        "id": "UTo9dV21L87M"
      },
      "outputs": [],
      "source": [
        "# TODO: use the non-checkpointed mode. create a new variable using the same\n",
        "# tensor data. get the model output.\n",
        "inputs_clone = inputs.clone().detach().requires_grad_(True)\n",
        "out_non_checkpointed = model(inputs_clone)\n",
        "# End of TODO\n",
        "\n",
        "# save the output and parameter gradients values\n",
        "out_not_checkpointed = out.data.clone()\n",
        "grad_not_checkpointed = {}\n",
        "for name, param in model.named_parameters():\n",
        "    grad_not_checkpointed[name] = param.grad.data.clone()"
      ]
    },
    {
      "cell_type": "markdown",
      "metadata": {
        "id": "8pFFg-c9MLbL"
      },
      "source": [
        "Now that we have done the checkpointed and non-checkpointed pass of the model and saved the output and parameter gradients, let's compare their values"
      ]
    },
    {
      "cell_type": "code",
      "execution_count": 10,
      "metadata": {
        "id": "oQ9zmfkcMN7T",
        "colab": {
          "base_uri": "https://localhost:8080/"
        },
        "outputId": "6d7f6a35-028c-4486-90af-7339b256b031"
      },
      "outputs": [
        {
          "output_type": "stream",
          "name": "stdout",
          "text": [
            "All checks passed!\n"
          ]
        }
      ],
      "source": [
        "# TODO: compare the output and parameters gradients with and without checkpoint.\n",
        "# they must be equal.\n",
        "assert torch.allclose(output_checkpointed, out_not_checkpointed, atol=1e-6), \"Outputs do not match!\"\n",
        "for name in grad_checkpointed:\n",
        "    assert torch.allclose(grad_checkpointed[name], grad_not_checkpointed[name], atol=1e-5), f\"Gradient mismatch in {name}!\"\n",
        "# End of TODO\n",
        "\n",
        "print(\"All checks passed!\")"
      ]
    },
    {
      "cell_type": "markdown",
      "metadata": {
        "id": "56A_N_M3Ma4t"
      },
      "source": [
        "So, from this example, we can see that it's very easy to use checkpointing on Sequential models and that the checkpoint API doesn't alter any data. The Checkpoint API implementation is based on autograd and hence there is no need for explicitly specifying what the execution of backwards should look like"
      ]
    },
    {
      "cell_type": "markdown",
      "metadata": {
        "id": "AEeJgxBwR_JP"
      },
      "source": [
        "# Gradient Accumulation in Deep Learning (25 points)\n",
        "\n",
        "\n",
        "### 1. Introduction\n",
        "\n",
        "Training deep learning models with large batch sizes can be difficult due to memory limitations, especially when using large datasets or deep networks. **Gradient Accumulation** is a technique that allows us to simulate large batch sizes without increasing memory usage. This tutorial will cover:\n",
        "\n",
        "1. **The theory behind Gradient Accumulation**\n",
        "2. **Using it in PyTorch**\n",
        "3. **Observing its effects**\n",
        "\n",
        "---\n",
        "\n",
        "## 2. Theory Behind Gradient Accumulation\n",
        "\n",
        "### 2.1 What is Gradient Accumulation?\n",
        "Instead of updating the model parameters after every mini-batch, **Gradient Accumulation** allows us to accumulate gradients over multiple mini-batches before performing an update. This effectively simulates training with a larger batch size.\n",
        "\n",
        "### 2.2 Why Use Gradient Accumulation?\n",
        "- **Overcome Memory Limits**: Training with large batch sizes often exceeds GPU memory capacity. Accumulating gradients allows training on smaller mini-batches while maintaining the benefits of larger batch training.\n",
        "- **Stable Training**: Larger batch sizes help in stable updates and reducing variance in gradient estimation.\n",
        "- **Effective Batch Size**: If GPU memory allows batch size `B` but we need `N`, we can accumulate gradients for `N/B` steps before updating.\n",
        "\n",
        "### 2.3 How Does It Work?\n",
        "If `loss` is computed on `batch_size = B`, instead of calling `optimizer.step()` every step, we:\n",
        "1. Compute gradients on `B` and accumulate them.\n",
        "2. Repeat for `K` iterations, accumulating gradients.\n",
        "3. Update weights only after `K` steps.\n",
        "4. Reset gradients after update.\n",
        "\n",
        "This results in an **effective batch size** of `B * K` without needing extra memory.\n"
      ]
    },
    {
      "cell_type": "markdown",
      "metadata": {
        "id": "3M4jGKzjswGd"
      },
      "source": [
        "first create a simple model and implement the function to train with accumulation."
      ]
    },
    {
      "cell_type": "code",
      "execution_count": 11,
      "metadata": {
        "id": "mlVph1YjhQdg"
      },
      "outputs": [],
      "source": [
        "def train_with_gradient_accumulation(model, dataloader, accumulation_steps):\n",
        "    criterion = nn.MSELoss()\n",
        "    optimizer = optim.SGD(model.parameters(), lr=0.01)\n",
        "    model.train()\n",
        "    optimizer.zero_grad()\n",
        "    mem_usage = []\n",
        "\n",
        "    for batch_idx, (inputs, targets) in enumerate(dataloader):\n",
        "        # TODO: Get loss and Normalize loss by accumulation steps\n",
        "        # Then backpropagate loss. Accumulate gradients and update after\n",
        "        # accumulation_steps\n",
        "        outputs = model(inputs)\n",
        "        loss = criterion(outputs, targets)\n",
        "        loss = loss / accumulation_steps\n",
        "        loss.backward()\n",
        "\n",
        "        if (batch_idx + 1) % accumulation_steps == 0:\n",
        "            optimizer.step()\n",
        "            optimizer.zero_grad()\n",
        "            mem_usage.append((torch.cuda.memory_allocated() / 1024**2) if torch.cuda.is_available() else 0)\n",
        "        # End of TODO\n",
        "\n",
        "    return mem_usage\n",
        "\n",
        "# TODO: Define a simple model\n",
        "class SimpleModel(nn.Module):\n",
        "    def __init__(self, input_dim=20, hidden_dim=16, output_dim=1):\n",
        "      super(SimpleModel, self).__init__()\n",
        "      self.linear1 = nn.Linear(input_dim, hidden_dim*2)\n",
        "      self.linear2 = nn.Linear(hidden_dim*2, hidden_dim)\n",
        "      self.linear3 = nn.Linear(hidden_dim, output_dim)\n",
        "      self.relu = nn.ReLU()\n",
        "    def forward(self, x):\n",
        "      x = self.relu(self.linear1(x))\n",
        "      x = self.relu(self.linear2(x))\n",
        "      x = self.linear3(x)\n",
        "      return x\n",
        "# End of TODO\n",
        "\n",
        "model = SimpleModel().to(device)"
      ]
    },
    {
      "cell_type": "markdown",
      "metadata": {
        "id": "1t7_MX4ws5NH"
      },
      "source": [
        "Now create a dataloader with the mentioned parameters"
      ]
    },
    {
      "cell_type": "code",
      "execution_count": 12,
      "metadata": {
        "id": "qn5mPZnHtAYi"
      },
      "outputs": [],
      "source": [
        "def create_dataloader(batch_size, accumulation_steps):\n",
        "    # TODO: create dataloader with batch size and same number of samples\n",
        "    # for different accumulation_steps\n",
        "    total_samples = batch_size * accumulation_steps * 10\n",
        "    X = torch.randn(total_samples, 20, device=device)\n",
        "    y = torch.randn(total_samples, 1, device=device)\n",
        "    dataset = TensorDataset(X, y)\n",
        "    dataloader = DataLoader(dataset, batch_size=batch_size, shuffle=True)\n",
        "    return dataloader\n",
        "    # End of TODO"
      ]
    },
    {
      "cell_type": "markdown",
      "metadata": {
        "id": "fdlqgbb4tChj"
      },
      "source": [
        "Lets train with accumulation and save mem usage."
      ]
    },
    {
      "cell_type": "code",
      "execution_count": 13,
      "metadata": {
        "colab": {
          "base_uri": "https://localhost:8080/"
        },
        "id": "eUngBnO5tHUH",
        "outputId": "26562a95-7f9b-4ec0-91dd-fc077340d403"
      },
      "outputs": [
        {
          "output_type": "stream",
          "name": "stdout",
          "text": [
            "num_sample: 4000\n"
          ]
        }
      ],
      "source": [
        "batch_size = 100  # Small batch size due to memory limits you can change it\n",
        "effective_batch_size = 400\n",
        "accumulation_steps = effective_batch_size // batch_size\n",
        "\n",
        "# TODO: train with accumulation_steps and save mem_usage\n",
        "# dont forget to empty cuda cache\n",
        "dataloader = create_dataloader(batch_size, accumulation_steps)\n",
        "mem_usage = train_with_gradient_accumulation(model, dataloader, accumulation_steps)\n",
        "print('num_sample:', len(dataloader.dataset))\n",
        "\n",
        "if torch.cuda.is_available():\n",
        "    torch.cuda.empty_cache()\n",
        "# End of TODO"
      ]
    },
    {
      "cell_type": "markdown",
      "metadata": {
        "id": "vLmsvbEQtUs1"
      },
      "source": [
        "And now train in the classic way with no accumulation."
      ]
    },
    {
      "cell_type": "code",
      "execution_count": 14,
      "metadata": {
        "colab": {
          "base_uri": "https://localhost:8080/"
        },
        "id": "MZyulZ2qnFh-",
        "outputId": "1d78dd2e-d211-4aac-91fe-d0c048339ded"
      },
      "outputs": [
        {
          "output_type": "stream",
          "name": "stdout",
          "text": [
            "num_sample: 4000\n"
          ]
        }
      ],
      "source": [
        "# TODO: train with accumulation_steps=1 (it means standard back prop)\n",
        "# and save mem_usage\n",
        "batch_size = 400\n",
        "standard_accumulation_steps = 1\n",
        "dataloader_standard = create_dataloader(batch_size, standard_accumulation_steps)\n",
        "mem_usage_standard = train_with_gradient_accumulation(model, dataloader_standard, standard_accumulation_steps)\n",
        "print('num_sample:', len(dataloader_standard.dataset))\n",
        "\n",
        "if torch.cuda.is_available():\n",
        "    torch.cuda.empty_cache()\n",
        "# End of TODO"
      ]
    },
    {
      "cell_type": "markdown",
      "metadata": {
        "id": "2I7EsSvnttF2"
      },
      "source": [
        "Check if we actually used less memory:"
      ]
    },
    {
      "cell_type": "code",
      "execution_count": 15,
      "metadata": {
        "colab": {
          "base_uri": "https://localhost:8080/",
          "height": 410
        },
        "id": "zZ4sNg0ftymJ",
        "outputId": "d7eb73c2-7f66-4805-8dd0-ca948a823812"
      },
      "outputs": [
        {
          "output_type": "display_data",
          "data": {
            "text/plain": [
              "<Figure size 600x400 with 1 Axes>"
            ],
            "image/png": "[encoded data removed]"
          },
          "metadata": {}
        }
      ],
      "source": [
        "# TODO: Plot memory usage\n",
        "steps = list(range(len(mem_usage_standard)))\n",
        "plt.figure(figsize=(6, 4))\n",
        "plt.plot(steps, mem_usage_standard, label=\"Standard Backprop\", color='tab:blue')\n",
        "plt.plot(steps, mem_usage, label=\"Accumulate Gradient Backprop\", color='tab:orange')\n",
        "plt.xlabel(\"Training Steps\")\n",
        "plt.ylabel('GPU Memory Usage (MB)')\n",
        "plt.title('GPU Memory Usage')\n",
        "plt.legend()\n",
        "plt.show()\n",
        "# End of TODO"
      ]
    },
    {
      "cell_type": "markdown",
      "metadata": {
        "id": "VkEyfapirUnh"
      },
      "source": [
        "##  Conclusion\n",
        "\n",
        "- **Gradient Accumulation** helps simulate large batch sizes without requiring more memory.\n",
        "- It improves **training stability** and allows training on **memory-constrained GPUs**.\n",
        "- We implemented it **from scratch** and in **PyTorch**.\n",
        "- We visualized its **effects** on loss stabilization.\n",
        "\n",
        "Gradient Accumulation is a useful trick when working with **deep networks and large datasets** on limited hardware. 🚀\n"
      ]
    },
    {
      "cell_type": "markdown",
      "metadata": {
        "id": "Gz7HCNMKw6AQ"
      },
      "source": [
        "# Sources of Randomness (5 points)\n",
        "run the code below. the outputs are different. Why do you think this happened?"
      ]
    },
    {
      "cell_type": "code",
      "execution_count": 16,
      "metadata": {
        "colab": {
          "base_uri": "https://localhost:8080/"
        },
        "id": "9YuEzyOYx43P",
        "outputId": "1fb3fc79-7faa-4835-a36e-00e2e54f1d35"
      },
      "outputs": [
        {
          "output_type": "stream",
          "name": "stdout",
          "text": [
            "tensor([[0.0361]], device='cuda:0', grad_fn=<AddmmBackward0>)\n",
            "tensor([[0.1146]], device='cuda:0', grad_fn=<AddmmBackward0>)\n"
          ]
        }
      ],
      "source": [
        "input = torch.randn(1, 5).to(device)\n",
        "model = SimpleModel(input_dim=5, hidden_dim=1500, output_dim=1).to(device)\n",
        "\n",
        "out = model(input)\n",
        "print(out)\n",
        "\n",
        "model = SimpleModel(input_dim=5, hidden_dim=1500, output_dim=1).to(device)\n",
        "\n",
        "out = model(input)\n",
        "print(out)"
      ]
    },
    {
      "cell_type": "markdown",
      "metadata": {
        "id": "IiFRFPK7yt7n"
      },
      "source": [
        "## Controlling Sources of Randomness in PyTorch Models (with GPU)\n",
        "\n",
        "### Introduction\n",
        "Randomness plays a crucial role in deep learning, but uncontrolled randomness can lead to inconsistent results. This part explores the sources of randomness in PyTorch and how to control them, especially when using a GPU.\n",
        "\n",
        "---\n",
        "\n",
        "## **1. Understanding Sources of Randomness**\n",
        "In PyTorch, randomness can come from multiple sources:\n",
        "\n",
        "1. **Python's built-in random module**: Used for operations that involve randomness in Python code.\n",
        "2. **NumPy**: If NumPy is used for data augmentation or initialization.\n",
        "3. **PyTorch CPU Randomness**: Random initialization of weights, dropout layers, etc.\n",
        "4. **PyTorch GPU Randomness**: When CUDA is used, operations can be non-deterministic.\n",
        "5. **cuDNN Backend**: NVIDIA's cuDNN has optimizations that may introduce non-determinism.\n",
        "\n",
        "To get reproducible results, all these sources must be controlled."
      ]
    },
    {
      "cell_type": "markdown",
      "metadata": {
        "id": "BWK0sdP22upC"
      },
      "source": [
        "## **2. Setting Seeds in PyTorch**\n",
        "To control randomness, we define a function that sets the seed for all sources:"
      ]
    },
    {
      "cell_type": "code",
      "execution_count": 17,
      "metadata": {
        "id": "O_1V5NuG2yip"
      },
      "outputs": [],
      "source": [
        "import os\n",
        "import random\n",
        "import numpy as np\n",
        "import torch\n",
        "\n",
        "def set_seed(seed):\n",
        "    # TODO: set these seeds:\n",
        "    # Python Hash seed\n",
        "    # Python random module\n",
        "    # NumPy seed\n",
        "    # PyTorch CPU seed\n",
        "    # PyTorch CUDA seed\n",
        "    # Multi-GPU seed\n",
        "    # Ensure deterministic cudnn\n",
        "    # Disables optimization that may introduce randomness(benchmark)\n",
        "    os.environ[\"PYTHONHASHSEED\"] = str(seed)\n",
        "    random.seed(seed)\n",
        "    np.random.seed(seed)\n",
        "    torch.manual_seed(seed)\n",
        "    torch.cuda.manual_seed(seed)\n",
        "    torch.cuda.manual_seed_all(seed)\n",
        "    torch.backends.cudnn.deterministic = True\n",
        "    torch.backends.cudnn.benchmark = False\n",
        "    # End of TODO"
      ]
    },
    {
      "cell_type": "markdown",
      "metadata": {
        "id": "VWyHuR0F3CeH"
      },
      "source": [
        "Now check if the results are the same:"
      ]
    },
    {
      "cell_type": "code",
      "execution_count": 18,
      "metadata": {
        "colab": {
          "base_uri": "https://localhost:8080/"
        },
        "id": "28KYX2nX23cN",
        "outputId": "469f131e-2506-4b4f-a4c9-7b80e1786f2f"
      },
      "outputs": [
        {
          "output_type": "stream",
          "name": "stdout",
          "text": [
            "tensor([[0.0987]], device='cuda:0', grad_fn=<AddmmBackward0>)\n",
            "tensor([[0.0987]], device='cuda:0', grad_fn=<AddmmBackward0>)\n"
          ]
        }
      ],
      "source": [
        "input = torch.randn(1, 5).to(device)\n",
        "\n",
        "set_seed(123)  # Set seed to 123 (or any fixed value)\n",
        "model = SimpleModel(input_dim=5, hidden_dim=1500,output_dim=1).to(device)\n",
        "\n",
        "out = model(input)\n",
        "print(out)\n",
        "\n",
        "set_seed(123)  # Set seed to 123 (or any fixed value)\n",
        "\n",
        "model = SimpleModel(input_dim=5, hidden_dim=1500,output_dim=1).to(device)\n",
        "\n",
        "out = model(input)\n",
        "print(out)"
      ]
    },
    {
      "cell_type": "markdown",
      "metadata": {
        "id": "M5L0iare3WAM"
      },
      "source": [
        "## **Key Takeaways**\n",
        "1. Randomness in PyTorch comes from multiple sources: Python, NumPy, PyTorch (CPU & GPU), and cuDNN.\n",
        "2. Using `set_seed()` ensures reproducibility in experiments.\n",
        "3. cuDNN optimizations can introduce non-determinism; setting `torch.backends.cudnn.deterministic = True` helps mitigate this.\n",
        "4. Always set the seed before model initialization to ensure identical starting conditions.\n",
        "\n",
        "Reproducibility is critical for debugging and fair benchmarking of deep learning models. 🚀\n"
      ]
    },
    {
      "cell_type": "markdown",
      "metadata": {
        "id": "8dP9w2HP4HuG"
      },
      "source": [
        "**Note**\n",
        "\n",
        "Setting torch.backends.cudnn.deterministic = True makes the code slower because it forces cuDNN to use deterministic algorithms instead of its default highly-optimized, non-deterministic implementations. Here’s why:\n",
        "1. cuDNN Optimizations\n",
        "\n",
        "cuDNN (CUDA Deep Neural Network Library) provides highly optimized implementations of deep learning operations, such as convolutions and matrix multiplications. By default, cuDNN selects the fastest algorithm available based on the given input size, hardware, and configuration.\n",
        "2. Deterministic vs. Non-Deterministic Algorithms\n",
        "\n",
        "Some of cuDNN’s fastest algorithms introduce minor sources of randomness due to floating-point precision differences in parallel execution, particularly in:\n",
        "\n",
        "    Convolution operations (e.g., torch.nn.Conv2d)\n",
        "    Batch normalization\n",
        "    Recurrent layers (e.g., LSTMs)\n",
        "\n",
        "When torch.backends.cudnn.deterministic = True, PyTorch forces cuDNN to use only deterministic versions of these algorithms. However, deterministic algorithms are not always the most optimized ones, leading to slower performance."
      ]
    },
    {
      "cell_type": "markdown",
      "metadata": {
        "id": "0MbFW4pH9k8_"
      },
      "source": [
        "# Second-Order Gradients in Deep Learning (20 points)\n",
        "\n",
        "What are Second-Order Gradients?\n",
        "\n",
        "In deep learning, second-order gradients refer to the derivatives of gradients (i.e., the second derivative of a loss function with respect to model parameters). These are commonly used in optimization methods that require information about the curvature of the loss function.\n",
        "\n",
        "\n",
        "\n",
        "### **Mathematically**:\n",
        "- **First-order gradient**: $ g = \\nabla_\\theta L(\\theta) $ (gradient of loss $ L $ w.r.t. parameters $ \\theta $)\n",
        "- **Second-order gradient (Hessian)**: $ H = \\nabla^2_\\theta L(\\theta) $ (derivative of $ g $, which captures curvature)\n",
        "\n",
        "\n",
        "###**Why Use Second-Order Gradients?**\n",
        "\n",
        " *   Better Optimization – Second-order methods like Newton’s Method use curvature information to converge faster than first-order methods (like SGD).\n",
        " *    Natural Gradient Descent – Second-order gradients help in adapting the learning rate in different directions based on the Hessian matrix.\n",
        " *   Meta-Learning – Algorithms like MAML (Model-Agnostic Meta-Learning) require second-order gradients to update learning rates.\n",
        " *   Adversarial Training – Computing second-order derivatives is useful for generating adversarial examples.\n",
        " *   Regularization – Used in some regularization techniques like curvature-based penalties.\n",
        "\n",
        "\n",
        "\n",
        "###**Challenges of Second-Order Gradients**\n",
        "\n",
        " * Computationally Expensive – Computing second-order derivatives (Hessian) can be costly, especially for deep networks.\n",
        " * Memory Intensive – Requires additional memory, making it impractical for very large models.\n",
        " * Numerical Stability – Sometimes leads to unstable gradients and requires careful tuning."
      ]
    },
    {
      "cell_type": "markdown",
      "metadata": {
        "id": "FlP1wlI_C4-x"
      },
      "source": [
        "The second derivative (Hessian matrix) provides information about how the gradient changes. By moving in the direction of the second-order gradient, we can adaptively adjust step sizes based on how steep or flat the loss landscape is.\n",
        "\n",
        "In the simplest case:\n",
        "\n",
        "$\n",
        "θ′=θ−α∇L(θ)−β∇2L(θ)\n",
        "$\n",
        "\n",
        "where:\n",
        "\n",
        " * ∇2L(θ) (the second-order gradient) adjusts the update based on curvature,\n",
        " * β is a small scaling factor."
      ]
    },
    {
      "cell_type": "code",
      "execution_count": 34,
      "metadata": {
        "id": "8AEKRwhk_ynt"
      },
      "outputs": [],
      "source": [
        "class SimpleNet(nn.Module):\n",
        "    def __init__(self):\n",
        "        super().__init__()\n",
        "        # TODO: define a model (1d to 1d)\n",
        "        self.linear = nn.Linear(1, 1)\n",
        "        # End of TODO\n",
        "\n",
        "    def forward(self, x):\n",
        "        # TODO: implement forward\n",
        "        return self.linear(x)\n",
        "        # End of TODO\n",
        "\n",
        "def generate_data(n_samples=100):\n",
        "    # TODO: Generate data for 1d to 1d model\n",
        "    # a simple linear data with noise is ok. For example: y = 2x + 3 + noise\n",
        "    x = np.random.uniform(-5, 5, size=(n_samples, 1)).astype(np.float32)\n",
        "    noise = np.random.normal(0, 1, size=(n_samples, 1)).astype(np.float32)\n",
        "    y = 2 * x + 3 + noise\n",
        "    x, y = torch.tensor(x, dtype=torch.float32), torch.tensor(y, dtype=torch.float32)\n",
        "    # End of TODO\n",
        "    return x, y\n",
        "\n",
        "model = SimpleNet()\n",
        "loss_fn = nn.MSELoss()\n",
        "optimizer = optim.SGD(model.parameters(), lr=0.01) # useless!\n",
        "\n",
        "x_train, y_train = generate_data()\n",
        "num_epochs = 100"
      ]
    },
    {
      "cell_type": "code",
      "execution_count": 35,
      "metadata": {
        "colab": {
          "base_uri": "https://localhost:8080/"
        },
        "id": "ZXtzPDRbANm5",
        "outputId": "2a677af0-84ea-4c98-c0ac-16bd56cfbe41",
        "collapsed": true
      },
      "outputs": [
        {
          "output_type": "stream",
          "name": "stdout",
          "text": [
            "Epoch 1/100, Loss: 39.6841\n",
            "Epoch 2/100, Loss: 30.3248\n",
            "Epoch 3/100, Loss: 23.8093\n",
            "Epoch 4/100, Loss: 19.2364\n",
            "Epoch 5/100, Loss: 15.9936\n",
            "Epoch 6/100, Loss: 13.6642\n",
            "Epoch 7/100, Loss: 11.9640\n",
            "Epoch 8/100, Loss: 10.6996\n",
            "Epoch 9/100, Loss: 9.7386\n",
            "Epoch 10/100, Loss: 8.9903\n",
            "Epoch 11/100, Loss: 8.3926\n",
            "Epoch 12/100, Loss: 7.9025\n",
            "Epoch 13/100, Loss: 7.4905\n",
            "Epoch 14/100, Loss: 7.1360\n",
            "Epoch 15/100, Loss: 6.8245\n",
            "Epoch 16/100, Loss: 6.5460\n",
            "Epoch 17/100, Loss: 6.2933\n",
            "Epoch 18/100, Loss: 6.0612\n",
            "Epoch 19/100, Loss: 5.8460\n",
            "Epoch 20/100, Loss: 5.6450\n",
            "Epoch 21/100, Loss: 5.4560\n",
            "Epoch 22/100, Loss: 5.2777\n",
            "Epoch 23/100, Loss: 5.1086\n",
            "Epoch 24/100, Loss: 4.9480\n",
            "Epoch 25/100, Loss: 4.7950\n",
            "Epoch 26/100, Loss: 4.6491\n",
            "Epoch 27/100, Loss: 4.5096\n",
            "Epoch 28/100, Loss: 4.3763\n",
            "Epoch 29/100, Loss: 4.2486\n",
            "Epoch 30/100, Loss: 4.1263\n",
            "Epoch 31/100, Loss: 4.0090\n",
            "Epoch 32/100, Loss: 3.8965\n",
            "Epoch 33/100, Loss: 3.7886\n",
            "Epoch 34/100, Loss: 3.6850\n",
            "Epoch 35/100, Loss: 3.5855\n",
            "Epoch 36/100, Loss: 3.4899\n",
            "Epoch 37/100, Loss: 3.3981\n",
            "Epoch 38/100, Loss: 3.3099\n",
            "Epoch 39/100, Loss: 3.2252\n",
            "Epoch 40/100, Loss: 3.1437\n",
            "Epoch 41/100, Loss: 3.0654\n",
            "Epoch 42/100, Loss: 2.9901\n",
            "Epoch 43/100, Loss: 2.9178\n",
            "Epoch 44/100, Loss: 2.8482\n",
            "Epoch 45/100, Loss: 2.7812\n",
            "Epoch 46/100, Loss: 2.7169\n",
            "Epoch 47/100, Loss: 2.6550\n",
            "Epoch 48/100, Loss: 2.5955\n",
            "Epoch 49/100, Loss: 2.5382\n",
            "Epoch 50/100, Loss: 2.4831\n",
            "Epoch 51/100, Loss: 2.4301\n",
            "Epoch 52/100, Loss: 2.3791\n",
            "Epoch 53/100, Loss: 2.3301\n",
            "Epoch 54/100, Loss: 2.2829\n",
            "Epoch 55/100, Loss: 2.2375\n",
            "Epoch 56/100, Loss: 2.1938\n",
            "Epoch 57/100, Loss: 2.1518\n",
            "Epoch 58/100, Loss: 2.1113\n",
            "Epoch 59/100, Loss: 2.0724\n",
            "Epoch 60/100, Loss: 2.0350\n",
            "Epoch 61/100, Loss: 1.9989\n",
            "Epoch 62/100, Loss: 1.9642\n",
            "Epoch 63/100, Loss: 1.9308\n",
            "Epoch 64/100, Loss: 1.8987\n",
            "Epoch 65/100, Loss: 1.8677\n",
            "Epoch 66/100, Loss: 1.8380\n",
            "Epoch 67/100, Loss: 1.8093\n",
            "Epoch 68/100, Loss: 1.7817\n",
            "Epoch 69/100, Loss: 1.7551\n",
            "Epoch 70/100, Loss: 1.7295\n",
            "Epoch 71/100, Loss: 1.7049\n",
            "Epoch 72/100, Loss: 1.6812\n",
            "Epoch 73/100, Loss: 1.6584\n",
            "Epoch 74/100, Loss: 1.6364\n",
            "Epoch 75/100, Loss: 1.6152\n",
            "Epoch 76/100, Loss: 1.5948\n",
            "Epoch 77/100, Loss: 1.5752\n",
            "Epoch 78/100, Loss: 1.5563\n",
            "Epoch 79/100, Loss: 1.5381\n",
            "Epoch 80/100, Loss: 1.5205\n",
            "Epoch 81/100, Loss: 1.5036\n",
            "Epoch 82/100, Loss: 1.4873\n",
            "Epoch 83/100, Loss: 1.4717\n",
            "Epoch 84/100, Loss: 1.4566\n",
            "Epoch 85/100, Loss: 1.4420\n",
            "Epoch 86/100, Loss: 1.4280\n",
            "Epoch 87/100, Loss: 1.4145\n",
            "Epoch 88/100, Loss: 1.4014\n",
            "Epoch 89/100, Loss: 1.3889\n",
            "Epoch 90/100, Loss: 1.3768\n",
            "Epoch 91/100, Loss: 1.3651\n",
            "Epoch 92/100, Loss: 1.3539\n",
            "Epoch 93/100, Loss: 1.3431\n",
            "Epoch 94/100, Loss: 1.3326\n",
            "Epoch 95/100, Loss: 1.3226\n",
            "Epoch 96/100, Loss: 1.3129\n",
            "Epoch 97/100, Loss: 1.3035\n",
            "Epoch 98/100, Loss: 1.2945\n",
            "Epoch 99/100, Loss: 1.2858\n",
            "Epoch 100/100, Loss: 1.2774\n",
            "Training complete!\n"
          ]
        }
      ],
      "source": [
        "for epoch in range(num_epochs):\n",
        "\n",
        "    # TODO: implement the loop using second-order gradients.\n",
        "    # first, compute first-order gradient. Then Convert first-order gradient\n",
        "    # to scalar before computing second-order gradient Update parameters\n",
        "    # manually. using first order and second order gradients.\n",
        "    # print loss in every step\n",
        "    y_pred = model(x_train)\n",
        "    loss = loss_fn(y_pred, y_train)\n",
        "    first_order = torch.autograd.grad(loss, model.parameters(), create_graph=True)\n",
        "    first_order_scalar = sum(g.norm() for g in first_order)\n",
        "    second_order = torch.autograd.grad(first_order_scalar, model.parameters())\n",
        "\n",
        "    with torch.no_grad():\n",
        "      for param, first_grad, second_grad in zip (model.parameters(), first_order, second_order):\n",
        "        param -= 0.01*first_grad - 0.001*second_grad\n",
        "\n",
        "    print(f\"Epoch {epoch+1}/{num_epochs}, Loss: {loss.item():.4f}\")\n",
        "    # End of TODO\n",
        "\n",
        "print(\"Training complete!\")"
      ]
    },
    {
      "cell_type": "code",
      "execution_count": 36,
      "metadata": {
        "colab": {
          "base_uri": "https://localhost:8080/",
          "height": 472
        },
        "id": "CuBNlCk2BUk1",
        "outputId": "50c584f8-c776-4c81-ed9b-a077941ef7e0"
      },
      "outputs": [
        {
          "output_type": "display_data",
          "data": {
            "text/plain": [
              "<Figure size 640x480 with 1 Axes>"
            ],
            "image/png": "[encoded data removed]"
          },
          "metadata": {}
        }
      ],
      "source": [
        "# TODO: evaluate the model using some data and visuilize the model output\n",
        "# and compare it with the real function\n",
        "x_train, y_train = generate_data()\n",
        "x_np = x_train.numpy()\n",
        "y_np = y_train.numpy()\n",
        "\n",
        "with torch.no_grad():\n",
        "    y_pred = model(x_train).numpy()\n",
        "\n",
        "plt.scatter(x_np, y_np, color='blue', label='True points', alpha=0.7)\n",
        "plt.plot(x_np, y_pred, color= 'red', label='Model function', alpha=0.8)\n",
        "plt.xlabel(\"x_train\")\n",
        "plt.ylabel(\"y_train\")\n",
        "plt.title(\"Visualization of Generated Data\")\n",
        "plt.legend()\n",
        "plt.grid(True)\n",
        "plt.show()\n",
        "# End of TODO"
      ]
    },
    {
      "cell_type": "markdown",
      "metadata": {
        "id": "RVsqXB18CopB"
      },
      "source": [
        "## Interpretation of Moving in the Second-Order Direction\n",
        "\n",
        "* If the second derivative is large (high curvature) → The loss is changing rapidly → Smaller step sizes.\n",
        "* If the second derivative is small (low curvature) → The loss changes slowly → Larger step sizes.\n",
        "\n",
        "This is the core idea behind Newton's method"
      ]
    }
  ],
  "metadata": {
    "accelerator": "GPU",
    "colab": {
      "gpuType": "T4",
      "provenance": []
    },
    "kernelspec": {
      "display_name": "Python 3 (ipykernel)",
      "language": "python",
      "name": "python3"
    },
    "language_info": {
      "codemirror_mode": {
        "name": "ipython",
        "version": 3
      },
      "file_extension": ".py",
      "mimetype": "text/x-python",
      "name": "python",
      "nbconvert_exporter": "python",
      "pygments_lexer": "ipython3",
      "version": "3.9.13"
    }
  },
  "nbformat": 4,
  "nbformat_minor": 0
}